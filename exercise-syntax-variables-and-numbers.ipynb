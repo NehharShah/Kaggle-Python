{
 "cells": [
  {
   "cell_type": "markdown",
   "id": "supported-contributor",
   "metadata": {
    "papermill": {
     "duration": 0.021267,
     "end_time": "2021-05-13T01:04:11.236411",
     "exception": false,
     "start_time": "2021-05-13T01:04:11.215144",
     "status": "completed"
    },
    "tags": []
   },
   "source": [
    "**This notebook is an exercise in the [Python](https://www.kaggle.com/learn/python) course.  You can reference the tutorial at [this link](https://www.kaggle.com/colinmorris/hello-python).**\n",
    "\n",
    "---\n"
   ]
  },
  {
   "cell_type": "markdown",
   "id": "controversial-property",
   "metadata": {
    "papermill": {
     "duration": 0.018352,
     "end_time": "2021-05-13T01:04:11.273434",
     "exception": false,
     "start_time": "2021-05-13T01:04:11.255082",
     "status": "completed"
    },
    "tags": []
   },
   "source": [
    "# Exercises"
   ]
  },
  {
   "cell_type": "markdown",
   "id": "chief-opera",
   "metadata": {
    "papermill": {
     "duration": 0.018081,
     "end_time": "2021-05-13T01:04:11.310002",
     "exception": false,
     "start_time": "2021-05-13T01:04:11.291921",
     "status": "completed"
    },
    "tags": []
   },
   "source": [
    "Welcome to your first set of Python coding problems! \n",
    "\n",
    "If this is your first time using Kaggle Notebooks, welcome! \n",
    "\n",
    "Notebooks are composed of blocks (called \"cells\") of text and code. Each of these is editable, though you'll mainly be editing the code cells to answer some questions.\n",
    "\n",
    "To get started, try running the code cell below (by pressing the ► button, or clicking on the cell and pressing ctrl+enter on your keyboard)."
   ]
  },
  {
   "cell_type": "code",
   "execution_count": 1,
   "id": "acquired-shelter",
   "metadata": {
    "execution": {
     "iopub.execute_input": "2021-05-13T01:04:11.351768Z",
     "iopub.status.busy": "2021-05-13T01:04:11.350575Z",
     "iopub.status.idle": "2021-05-13T01:04:11.356522Z",
     "shell.execute_reply": "2021-05-13T01:04:11.355910Z"
    },
    "papermill": {
     "duration": 0.028082,
     "end_time": "2021-05-13T01:04:11.356691",
     "exception": false,
     "start_time": "2021-05-13T01:04:11.328609",
     "status": "completed"
    },
    "tags": []
   },
   "outputs": [
    {
     "name": "stdout",
     "output_type": "stream",
     "text": [
      "You've successfully run some Python code\n",
      "Congratulations!\n"
     ]
    }
   ],
   "source": [
    "print(\"You've successfully run some Python code\")\n",
    "print(\"Congratulations!\")"
   ]
  },
  {
   "cell_type": "markdown",
   "id": "chicken-recipient",
   "metadata": {
    "papermill": {
     "duration": 0.020374,
     "end_time": "2021-05-13T01:04:11.396937",
     "exception": false,
     "start_time": "2021-05-13T01:04:11.376563",
     "status": "completed"
    },
    "tags": []
   },
   "source": [
    "Try adding another line of code in the cell above and re-running it. \n",
    "\n",
    "Now let's get a little fancier:  Add a new code cell by clicking on an existing code cell, hitting the escape key, and then hitting the `a` or `b` key.  The `a` key will add a cell above the current cell, and `b` adds a cell below.\n",
    "\n",
    "Great! Now you know how to use Notebooks.\n",
    "\n",
    "Each hands-on exercise starts by setting up our feedback and code checking mechanism. Run the code cell below to do that. Then you'll be ready to move on to question 0."
   ]
  },
  {
   "cell_type": "code",
   "execution_count": 2,
   "id": "vertical-arthur",
   "metadata": {
    "_kg_hide-input": true,
    "_kg_hide-output": true,
    "execution": {
     "iopub.execute_input": "2021-05-13T01:04:11.440774Z",
     "iopub.status.busy": "2021-05-13T01:04:11.439966Z",
     "iopub.status.idle": "2021-05-13T01:04:11.486551Z",
     "shell.execute_reply": "2021-05-13T01:04:11.485914Z"
    },
    "papermill": {
     "duration": 0.070456,
     "end_time": "2021-05-13T01:04:11.486695",
     "exception": false,
     "start_time": "2021-05-13T01:04:11.416239",
     "status": "completed"
    },
    "tags": []
   },
   "outputs": [
    {
     "name": "stdout",
     "output_type": "stream",
     "text": [
      "Setup complete! You're ready to start question 0.\n"
     ]
    }
   ],
   "source": [
    "from learntools.core import binder; binder.bind(globals())\n",
    "from learntools.python.ex1 import *\n",
    "print(\"Setup complete! You're ready to start question 0.\")"
   ]
  },
  {
   "cell_type": "markdown",
   "id": "vocal-worst",
   "metadata": {
    "papermill": {
     "duration": 0.019211,
     "end_time": "2021-05-13T01:04:11.525501",
     "exception": false,
     "start_time": "2021-05-13T01:04:11.506290",
     "status": "completed"
    },
    "tags": []
   },
   "source": [
    "## 0.\n",
    "\n",
    "*This is a silly question intended as an introduction to the format we use for hands-on exercises throughout all Kaggle courses.*\n",
    "\n",
    "**What is your favorite color? **\n",
    "\n",
    "To complete this question, create a variable called `color` in the cell below with an appropriate value. The function call `q0.check()` (which we've already provided in the cell below) will check your answer."
   ]
  },
  {
   "cell_type": "code",
   "execution_count": 3,
   "id": "comfortable-kitty",
   "metadata": {
    "execution": {
     "iopub.execute_input": "2021-05-13T01:04:11.567819Z",
     "iopub.status.busy": "2021-05-13T01:04:11.567171Z",
     "iopub.status.idle": "2021-05-13T01:04:11.576127Z",
     "shell.execute_reply": "2021-05-13T01:04:11.576616Z"
    },
    "papermill": {
     "duration": 0.03179,
     "end_time": "2021-05-13T01:04:11.576812",
     "exception": false,
     "start_time": "2021-05-13T01:04:11.545022",
     "status": "completed"
    },
    "tags": []
   },
   "outputs": [
    {
     "name": "stdout",
     "output_type": "stream",
     "text": [
      "What is your favorite color? blue\n"
     ]
    },
    {
     "data": {
      "application/javascript": [
       "parent.postMessage({\"jupyterEvent\": \"custom.exercise_interaction\", \"data\": {\"outcomeType\": 1, \"valueTowardsCompletion\": 0.25, \"interactionType\": 1, \"questionType\": 1, \"questionId\": \"0_ExerciseFormatTutorial\", \"learnToolsVersion\": \"0.3.4\", \"failureMessage\": \"\", \"exceptionClass\": \"\", \"trace\": \"\"}}, \"*\")"
      ],
      "text/plain": [
       "<IPython.core.display.Javascript object>"
      ]
     },
     "metadata": {},
     "output_type": "display_data"
    },
    {
     "data": {
      "text/markdown": [
       "<span style=\"color:#33cc33\">Correct:</span> What?! You got it right without needing a hint or anything? Drats. Well hey, you should still continue to the next step to get some practice asking for a hint and checking solutions. (Even though you obviously don't need any help here.)"
      ],
      "text/plain": [
       "Correct: What?! You got it right without needing a hint or anything? Drats. Well hey, you should still continue to the next step to get some practice asking for a hint and checking solutions. (Even though you obviously don't need any help here.)"
      ]
     },
     "metadata": {},
     "output_type": "display_data"
    }
   ],
   "source": [
    "# create a variable called color with an appropriate value on the line below\n",
    "# (Remember, strings in Python must be enclosed in 'single' or \"double\" quotes)\n",
    "color = \"blue\"\n",
    "print(\"What is your favorite color?\", str(color))\n",
    "\n",
    "# Check your answer\n",
    "q0.check()"
   ]
  },
  {
   "cell_type": "markdown",
   "id": "affecting-compound",
   "metadata": {
    "papermill": {
     "duration": 0.020634,
     "end_time": "2021-05-13T01:04:11.618446",
     "exception": false,
     "start_time": "2021-05-13T01:04:11.597812",
     "status": "completed"
    },
    "tags": []
   },
   "source": [
    "Didn't get the right answer? How do you not even know your own favorite color?!\n",
    "\n",
    "Delete the `#` in the line below to make one of the lines run. You can choose between getting a hint or the full answer by choosing which line to remove the `#` from. \n",
    "\n",
    "Removing the `#` is called uncommenting, because it changes that line from a \"comment\" which Python doesn't run to code, which Python does run."
   ]
  },
  {
   "cell_type": "code",
   "execution_count": 4,
   "id": "solved-maldives",
   "metadata": {
    "execution": {
     "iopub.execute_input": "2021-05-13T01:04:11.663555Z",
     "iopub.status.busy": "2021-05-13T01:04:11.662904Z",
     "iopub.status.idle": "2021-05-13T01:04:11.666510Z",
     "shell.execute_reply": "2021-05-13T01:04:11.665996Z"
    },
    "papermill": {
     "duration": 0.027314,
     "end_time": "2021-05-13T01:04:11.666642",
     "exception": false,
     "start_time": "2021-05-13T01:04:11.639328",
     "status": "completed"
    },
    "tags": []
   },
   "outputs": [],
   "source": [
    "#q0.hint()\n",
    "#q0.solution()"
   ]
  },
  {
   "cell_type": "markdown",
   "id": "charitable-lafayette",
   "metadata": {
    "papermill": {
     "duration": 0.022764,
     "end_time": "2021-05-13T01:04:11.710815",
     "exception": false,
     "start_time": "2021-05-13T01:04:11.688051",
     "status": "completed"
    },
    "tags": []
   },
   "source": [
    "The upcoming questions work the same way. The only thing that will change are the question numbers. For the next question, you'll call `q1.check()`, `q1.hint()`, `q1.solution()`, for question 2, you'll call `q2.check()`, and so on."
   ]
  },
  {
   "cell_type": "markdown",
   "id": "protective-climb",
   "metadata": {
    "papermill": {
     "duration": 0.021109,
     "end_time": "2021-05-13T01:04:11.754261",
     "exception": false,
     "start_time": "2021-05-13T01:04:11.733152",
     "status": "completed"
    },
    "tags": []
   },
   "source": [
    "<hr/>\n",
    "\n",
    "## 1.\n",
    "\n",
    "Complete the code below. In case it's helpful, here is the table of available arithmetic operations:\n",
    "\n",
    "\n",
    "\n",
    "| Operator     | Name           | Description                                            |\n",
    "|--------------|----------------|--------------------------------------------------------|\n",
    "| ``a + b``    | Addition       | Sum of ``a`` and ``b``                                 |\n",
    "| ``a - b``    | Subtraction    | Difference of ``a`` and ``b``                          |\n",
    "| ``a * b``    | Multiplication | Product of ``a`` and ``b``                             |\n",
    "| ``a / b``    | True division  | Quotient of ``a`` and ``b``                            |\n",
    "| ``a // b``   | Floor division | Quotient of ``a`` and ``b``, removing fractional parts |\n",
    "| ``a % b``    | Modulus        | Integer remainder after division of ``a`` by ``b``     |\n",
    "| ``a ** b``   | Exponentiation | ``a`` raised to the power of ``b``                     |\n",
    "| ``-a``       | Negation       | The negative of ``a``                                  |\n",
    "\n",
    "<span style=\"display:none\"></span>\n"
   ]
  },
  {
   "cell_type": "code",
   "execution_count": 5,
   "id": "breathing-emperor",
   "metadata": {
    "execution": {
     "iopub.execute_input": "2021-05-13T01:04:11.801055Z",
     "iopub.status.busy": "2021-05-13T01:04:11.800283Z",
     "iopub.status.idle": "2021-05-13T01:04:11.806663Z",
     "shell.execute_reply": "2021-05-13T01:04:11.807180Z"
    },
    "papermill": {
     "duration": 0.031318,
     "end_time": "2021-05-13T01:04:11.807364",
     "exception": false,
     "start_time": "2021-05-13T01:04:11.776046",
     "status": "completed"
    },
    "tags": []
   },
   "outputs": [
    {
     "data": {
      "application/javascript": [
       "parent.postMessage({\"jupyterEvent\": \"custom.exercise_interaction\", \"data\": {\"outcomeType\": 1, \"valueTowardsCompletion\": 0.25, \"interactionType\": 1, \"questionType\": 1, \"questionId\": \"1_CircleArea\", \"learnToolsVersion\": \"0.3.4\", \"failureMessage\": \"\", \"exceptionClass\": \"\", \"trace\": \"\"}}, \"*\")"
      ],
      "text/plain": [
       "<IPython.core.display.Javascript object>"
      ]
     },
     "metadata": {},
     "output_type": "display_data"
    },
    {
     "data": {
      "text/markdown": [
       "<span style=\"color:#33cc33\">Correct</span>"
      ],
      "text/plain": [
       "Correct"
      ]
     },
     "metadata": {},
     "output_type": "display_data"
    }
   ],
   "source": [
    "pi = 3.14159 # approximate\n",
    "diameter = 3\n",
    "\n",
    "# Create a variable called 'radius' equal to half the diameter\n",
    "radius = diameter / 2\n",
    "\n",
    "# Create a variable called 'area', using the formula for the area of a circle: pi times the radius squared\n",
    "area = pi * (radius ** 2)\n",
    "\n",
    "# Check your answer\n",
    "q1.check()"
   ]
  },
  {
   "cell_type": "code",
   "execution_count": 6,
   "id": "russian-carnival",
   "metadata": {
    "execution": {
     "iopub.execute_input": "2021-05-13T01:04:11.855702Z",
     "iopub.status.busy": "2021-05-13T01:04:11.854945Z",
     "iopub.status.idle": "2021-05-13T01:04:11.858044Z",
     "shell.execute_reply": "2021-05-13T01:04:11.858669Z"
    },
    "papermill": {
     "duration": 0.029166,
     "end_time": "2021-05-13T01:04:11.858873",
     "exception": false,
     "start_time": "2021-05-13T01:04:11.829707",
     "status": "completed"
    },
    "tags": []
   },
   "outputs": [],
   "source": [
    "# Uncomment and run the lines below if you need help.\n",
    "#q1.hint()\n",
    "#q1.solution()"
   ]
  },
  {
   "cell_type": "markdown",
   "id": "occupied-manchester",
   "metadata": {
    "papermill": {
     "duration": 0.023117,
     "end_time": "2021-05-13T01:04:11.904469",
     "exception": false,
     "start_time": "2021-05-13T01:04:11.881352",
     "status": "completed"
    },
    "tags": []
   },
   "source": [
    "<hr/>\n",
    "## 2.\n",
    "\n",
    "Add code to the following cell to swap variables `a` and `b` (so that `a` refers to the object previously referred to by `b` and vice versa)."
   ]
  },
  {
   "cell_type": "code",
   "execution_count": 7,
   "id": "liked-rental",
   "metadata": {
    "execution": {
     "iopub.execute_input": "2021-05-13T01:04:11.953430Z",
     "iopub.status.busy": "2021-05-13T01:04:11.952762Z",
     "iopub.status.idle": "2021-05-13T01:04:11.960519Z",
     "shell.execute_reply": "2021-05-13T01:04:11.959987Z"
    },
    "papermill": {
     "duration": 0.033409,
     "end_time": "2021-05-13T01:04:11.960657",
     "exception": false,
     "start_time": "2021-05-13T01:04:11.927248",
     "status": "completed"
    },
    "tags": []
   },
   "outputs": [
    {
     "data": {
      "application/javascript": [
       "parent.postMessage({\"jupyterEvent\": \"custom.exercise_interaction\", \"data\": {\"outcomeType\": 1, \"valueTowardsCompletion\": 0.25, \"interactionType\": 1, \"questionType\": 2, \"questionId\": \"2_VariableSwap\", \"learnToolsVersion\": \"0.3.4\", \"failureMessage\": \"\", \"exceptionClass\": \"\", \"trace\": \"\"}}, \"*\")"
      ],
      "text/plain": [
       "<IPython.core.display.Javascript object>"
      ]
     },
     "metadata": {},
     "output_type": "display_data"
    },
    {
     "data": {
      "text/markdown": [
       "<span style=\"color:#33cc33\">Correct:</span> \n",
       "\n",
       "The most straightforward solution is to use a third variable to temporarily store one of the old values. e.g.:\n",
       "\n",
       "    tmp = a\n",
       "    a = b\n",
       "    b = tmp\n",
       "\n",
       "If you've read lots of Python code, you might have seen the following trick to swap two variables in one line:\n",
       "\n",
       "    a, b = b, a\n",
       "\n",
       "We'll demystify this bit of Python magic later when we talk about *tuples*."
      ],
      "text/plain": [
       "Correct: \n",
       "\n",
       "The most straightforward solution is to use a third variable to temporarily store one of the old values. e.g.:\n",
       "\n",
       "    tmp = a\n",
       "    a = b\n",
       "    b = tmp\n",
       "\n",
       "If you've read lots of Python code, you might have seen the following trick to swap two variables in one line:\n",
       "\n",
       "    a, b = b, a\n",
       "\n",
       "We'll demystify this bit of Python magic later when we talk about *tuples*."
      ]
     },
     "metadata": {},
     "output_type": "display_data"
    }
   ],
   "source": [
    "########### Setup code - don't touch this part ######################\n",
    "# If you're curious, these are examples of lists. We'll talk about \n",
    "# them in depth a few lessons from now. For now, just know that they're\n",
    "# yet another type of Python object, like int or float.\n",
    "a = [1, 2, 3]\n",
    "b = [3, 2, 1]\n",
    "q2.store_original_ids()\n",
    "######################################################################\n",
    "tmp = a\n",
    "a = b\n",
    "b = tmp\n",
    "\n",
    "######################################################################\n",
    "\n",
    "# Check your answer\n",
    "q2.check()"
   ]
  },
  {
   "cell_type": "code",
   "execution_count": 8,
   "id": "dying-malta",
   "metadata": {
    "execution": {
     "iopub.execute_input": "2021-05-13T01:04:12.011189Z",
     "iopub.status.busy": "2021-05-13T01:04:12.010569Z",
     "iopub.status.idle": "2021-05-13T01:04:12.015268Z",
     "shell.execute_reply": "2021-05-13T01:04:12.014673Z"
    },
    "papermill": {
     "duration": 0.031025,
     "end_time": "2021-05-13T01:04:12.015407",
     "exception": false,
     "start_time": "2021-05-13T01:04:11.984382",
     "status": "completed"
    },
    "tags": []
   },
   "outputs": [],
   "source": [
    "#q2.hint()"
   ]
  },
  {
   "cell_type": "code",
   "execution_count": 9,
   "id": "chubby-worth",
   "metadata": {
    "execution": {
     "iopub.execute_input": "2021-05-13T01:04:12.067388Z",
     "iopub.status.busy": "2021-05-13T01:04:12.066769Z",
     "iopub.status.idle": "2021-05-13T01:04:12.069835Z",
     "shell.execute_reply": "2021-05-13T01:04:12.069216Z"
    },
    "papermill": {
     "duration": 0.030784,
     "end_time": "2021-05-13T01:04:12.069974",
     "exception": false,
     "start_time": "2021-05-13T01:04:12.039190",
     "status": "completed"
    },
    "tags": []
   },
   "outputs": [],
   "source": [
    "#q2.solution()"
   ]
  },
  {
   "cell_type": "markdown",
   "id": "enhanced-kidney",
   "metadata": {
    "papermill": {
     "duration": 0.023483,
     "end_time": "2021-05-13T01:04:12.118041",
     "exception": false,
     "start_time": "2021-05-13T01:04:12.094558",
     "status": "completed"
    },
    "tags": []
   },
   "source": [
    "<hr/>\n",
    "## 3.\n",
    "\n",
    "a) Add parentheses to the following expression so that it evaluates to 1."
   ]
  },
  {
   "cell_type": "code",
   "execution_count": 10,
   "id": "separated-product",
   "metadata": {
    "execution": {
     "iopub.execute_input": "2021-05-13T01:04:12.171339Z",
     "iopub.status.busy": "2021-05-13T01:04:12.170329Z",
     "iopub.status.idle": "2021-05-13T01:04:12.175429Z",
     "shell.execute_reply": "2021-05-13T01:04:12.174891Z"
    },
    "papermill": {
     "duration": 0.033668,
     "end_time": "2021-05-13T01:04:12.175579",
     "exception": false,
     "start_time": "2021-05-13T01:04:12.141911",
     "status": "completed"
    },
    "tags": []
   },
   "outputs": [
    {
     "data": {
      "text/plain": [
       "1"
      ]
     },
     "execution_count": 10,
     "metadata": {},
     "output_type": "execute_result"
    }
   ],
   "source": [
    "(5 - 3) // 2"
   ]
  },
  {
   "cell_type": "code",
   "execution_count": 11,
   "id": "prostate-quick",
   "metadata": {
    "execution": {
     "iopub.execute_input": "2021-05-13T01:04:12.229208Z",
     "iopub.status.busy": "2021-05-13T01:04:12.228540Z",
     "iopub.status.idle": "2021-05-13T01:04:12.231917Z",
     "shell.execute_reply": "2021-05-13T01:04:12.231398Z"
    },
    "papermill": {
     "duration": 0.032061,
     "end_time": "2021-05-13T01:04:12.232060",
     "exception": false,
     "start_time": "2021-05-13T01:04:12.199999",
     "status": "completed"
    },
    "tags": []
   },
   "outputs": [],
   "source": [
    "#q3.a.hint()"
   ]
  },
  {
   "cell_type": "code",
   "execution_count": 12,
   "id": "postal-israel",
   "metadata": {
    "execution": {
     "iopub.execute_input": "2021-05-13T01:04:12.286428Z",
     "iopub.status.busy": "2021-05-13T01:04:12.285687Z",
     "iopub.status.idle": "2021-05-13T01:04:12.290864Z",
     "shell.execute_reply": "2021-05-13T01:04:12.290280Z"
    },
    "papermill": {
     "duration": 0.034329,
     "end_time": "2021-05-13T01:04:12.291018",
     "exception": false,
     "start_time": "2021-05-13T01:04:12.256689",
     "status": "completed"
    },
    "tags": []
   },
   "outputs": [
    {
     "data": {
      "application/javascript": [
       "parent.postMessage({\"jupyterEvent\": \"custom.exercise_interaction\", \"data\": {\"interactionType\": 3, \"questionType\": 4, \"questionId\": \"3.1_ArithmeticParensEasy\", \"learnToolsVersion\": \"0.3.4\", \"valueTowardsCompletion\": 0.0, \"failureMessage\": \"\", \"exceptionClass\": \"\", \"trace\": \"\", \"outcomeType\": 4}}, \"*\")"
      ],
      "text/plain": [
       "<IPython.core.display.Javascript object>"
      ]
     },
     "metadata": {},
     "output_type": "display_data"
    },
    {
     "data": {
      "text/markdown": [
       "<span style=\"color:#33cc99\">Solution:</span> \n",
       "```python\n",
       "(5 - 3) // 2\n",
       "```"
      ],
      "text/plain": [
       "Solution: \n",
       "```python\n",
       "(5 - 3) // 2\n",
       "```"
      ]
     },
     "metadata": {},
     "output_type": "display_data"
    }
   ],
   "source": [
    "# Check your answer (Run this code cell to receive credit!)\n",
    "q3.a.solution()"
   ]
  },
  {
   "cell_type": "markdown",
   "id": "shaped-background",
   "metadata": {
    "papermill": {
     "duration": 0.025194,
     "end_time": "2021-05-13T01:04:12.342194",
     "exception": false,
     "start_time": "2021-05-13T01:04:12.317000",
     "status": "completed"
    },
    "tags": []
   },
   "source": [
    "<small>Questions, like this one, marked a spicy pepper are a bit harder.</small>\n",
    "\n",
    "b) <span title=\"A bit spicy\" style=\"color: darkgreen \">🌶️</span> Add parentheses to the following expression so that it evaluates to 0\n"
   ]
  },
  {
   "cell_type": "code",
   "execution_count": 13,
   "id": "overall-provincial",
   "metadata": {
    "execution": {
     "iopub.execute_input": "2021-05-13T01:04:12.398486Z",
     "iopub.status.busy": "2021-05-13T01:04:12.397858Z",
     "iopub.status.idle": "2021-05-13T01:04:12.401595Z",
     "shell.execute_reply": "2021-05-13T01:04:12.401105Z"
    },
    "papermill": {
     "duration": 0.03394,
     "end_time": "2021-05-13T01:04:12.401754",
     "exception": false,
     "start_time": "2021-05-13T01:04:12.367814",
     "status": "completed"
    },
    "tags": []
   },
   "outputs": [
    {
     "data": {
      "text/plain": [
       "0"
      ]
     },
     "execution_count": 13,
     "metadata": {},
     "output_type": "execute_result"
    }
   ],
   "source": [
    "(8 - 3) * (2 - (1 + 1))"
   ]
  },
  {
   "cell_type": "code",
   "execution_count": 14,
   "id": "atmospheric-abuse",
   "metadata": {
    "execution": {
     "iopub.execute_input": "2021-05-13T01:04:12.458153Z",
     "iopub.status.busy": "2021-05-13T01:04:12.457498Z",
     "iopub.status.idle": "2021-05-13T01:04:12.459294Z",
     "shell.execute_reply": "2021-05-13T01:04:12.459859Z"
    },
    "papermill": {
     "duration": 0.032252,
     "end_time": "2021-05-13T01:04:12.460023",
     "exception": false,
     "start_time": "2021-05-13T01:04:12.427771",
     "status": "completed"
    },
    "tags": []
   },
   "outputs": [],
   "source": [
    "#q3.b.hint()"
   ]
  },
  {
   "cell_type": "code",
   "execution_count": 15,
   "id": "demographic-richmond",
   "metadata": {
    "execution": {
     "iopub.execute_input": "2021-05-13T01:04:12.515623Z",
     "iopub.status.busy": "2021-05-13T01:04:12.515010Z",
     "iopub.status.idle": "2021-05-13T01:04:12.521883Z",
     "shell.execute_reply": "2021-05-13T01:04:12.521375Z"
    },
    "papermill": {
     "duration": 0.035792,
     "end_time": "2021-05-13T01:04:12.522030",
     "exception": false,
     "start_time": "2021-05-13T01:04:12.486238",
     "status": "completed"
    },
    "tags": []
   },
   "outputs": [
    {
     "data": {
      "application/javascript": [
       "parent.postMessage({\"jupyterEvent\": \"custom.exercise_interaction\", \"data\": {\"interactionType\": 3, \"questionType\": 4, \"questionId\": \"3.2_ArithmeticParensHard\", \"learnToolsVersion\": \"0.3.4\", \"valueTowardsCompletion\": 0.0, \"failureMessage\": \"\", \"exceptionClass\": \"\", \"trace\": \"\", \"outcomeType\": 4}}, \"*\")"
      ],
      "text/plain": [
       "<IPython.core.display.Javascript object>"
      ]
     },
     "metadata": {},
     "output_type": "display_data"
    },
    {
     "data": {
      "text/markdown": [
       "<span style=\"color:#33cc99\">Solution:</span> `(8 - 3) * (2 - (1 + 1))` is one solution. There may be others."
      ],
      "text/plain": [
       "Solution: `(8 - 3) * (2 - (1 + 1))` is one solution. There may be others."
      ]
     },
     "metadata": {},
     "output_type": "display_data"
    }
   ],
   "source": [
    "# Check your answer (Run this code cell to receive credit!)\n",
    "q3.b.solution()"
   ]
  },
  {
   "cell_type": "markdown",
   "id": "powered-capture",
   "metadata": {
    "papermill": {
     "duration": 0.026755,
     "end_time": "2021-05-13T01:04:12.576083",
     "exception": false,
     "start_time": "2021-05-13T01:04:12.549328",
     "status": "completed"
    },
    "tags": []
   },
   "source": [
    "<hr/>\n",
    "## 4. \n",
    "Alice, Bob and Carol have agreed to pool their Halloween candy and split it evenly among themselves.\n",
    "For the sake of their friendship, any candies left over will be smashed. For example, if they collectively\n",
    "bring home 91 candies, they'll take 30 each and smash 1.\n",
    "\n",
    "Write an arithmetic expression below to calculate how many candies they must smash for a given haul."
   ]
  },
  {
   "cell_type": "code",
   "execution_count": 16,
   "id": "anticipated-questionnaire",
   "metadata": {
    "execution": {
     "iopub.execute_input": "2021-05-13T01:04:12.636255Z",
     "iopub.status.busy": "2021-05-13T01:04:12.635330Z",
     "iopub.status.idle": "2021-05-13T01:04:12.640393Z",
     "shell.execute_reply": "2021-05-13T01:04:12.640905Z"
    },
    "papermill": {
     "duration": 0.037877,
     "end_time": "2021-05-13T01:04:12.641080",
     "exception": false,
     "start_time": "2021-05-13T01:04:12.603203",
     "status": "completed"
    },
    "tags": []
   },
   "outputs": [
    {
     "data": {
      "application/javascript": [
       "parent.postMessage({\"jupyterEvent\": \"custom.exercise_interaction\", \"data\": {\"outcomeType\": 1, \"valueTowardsCompletion\": 0.25, \"interactionType\": 1, \"questionType\": 1, \"questionId\": \"4_CandySplitting\", \"learnToolsVersion\": \"0.3.4\", \"failureMessage\": \"\", \"exceptionClass\": \"\", \"trace\": \"\"}}, \"*\")"
      ],
      "text/plain": [
       "<IPython.core.display.Javascript object>"
      ]
     },
     "metadata": {},
     "output_type": "display_data"
    },
    {
     "data": {
      "text/markdown": [
       "<span style=\"color:#33cc33\">Correct</span>"
      ],
      "text/plain": [
       "Correct"
      ]
     },
     "metadata": {},
     "output_type": "display_data"
    }
   ],
   "source": [
    "# Variables representing the number of candies collected by alice, bob, and carol\n",
    "alice_candies = 121\n",
    "bob_candies = 77\n",
    "carol_candies = 109\n",
    "\n",
    "# Your code goes here! Replace the right-hand side of this assignment with an expression\n",
    "# involving alice_candies, bob_candies, and carol_candies\n",
    "to_smash = (alice_candies + bob_candies + carol_candies) % 3\n",
    "\n",
    "\n",
    "# Check your answer\n",
    "q4.check()"
   ]
  },
  {
   "cell_type": "code",
   "execution_count": 17,
   "id": "convertible-water",
   "metadata": {
    "execution": {
     "iopub.execute_input": "2021-05-13T01:04:12.701593Z",
     "iopub.status.busy": "2021-05-13T01:04:12.700535Z",
     "iopub.status.idle": "2021-05-13T01:04:12.705531Z",
     "shell.execute_reply": "2021-05-13T01:04:12.706100Z"
    },
    "papermill": {
     "duration": 0.036719,
     "end_time": "2021-05-13T01:04:12.706274",
     "exception": false,
     "start_time": "2021-05-13T01:04:12.669555",
     "status": "completed"
    },
    "tags": []
   },
   "outputs": [],
   "source": [
    "#q4.hint()\n",
    "#q4.solution()"
   ]
  },
  {
   "cell_type": "markdown",
   "id": "aquatic-darwin",
   "metadata": {
    "papermill": {
     "duration": 0.028487,
     "end_time": "2021-05-13T01:04:12.764358",
     "exception": false,
     "start_time": "2021-05-13T01:04:12.735871",
     "status": "completed"
    },
    "tags": []
   },
   "source": [
    "# Keep Going\n",
    "\n",
    "Next up, you'll **[learn to write new functions and understand functions others write](https://www.kaggle.com/colinmorris/functions-and-getting-help)**. This will make you at least 10 times more productive as a Python programmer. "
   ]
  },
  {
   "cell_type": "markdown",
   "id": "liquid-settle",
   "metadata": {
    "papermill": {
     "duration": 0.028037,
     "end_time": "2021-05-13T01:04:12.821040",
     "exception": false,
     "start_time": "2021-05-13T01:04:12.793003",
     "status": "completed"
    },
    "tags": []
   },
   "source": [
    "---\n",
    "\n",
    "\n",
    "\n",
    "\n",
    "*Have questions or comments? Visit the [Learn Discussion forum](https://www.kaggle.com/learn-forum/161283) to chat with other Learners.*"
   ]
  }
 ],
 "metadata": {
  "kernelspec": {
   "display_name": "Python 3",
   "language": "python",
   "name": "python3"
  },
  "language_info": {
   "codemirror_mode": {
    "name": "ipython",
    "version": 3
   },
   "file_extension": ".py",
   "mimetype": "text/x-python",
   "name": "python",
   "nbconvert_exporter": "python",
   "pygments_lexer": "ipython3",
   "version": "3.7.9"
  },
  "papermill": {
   "default_parameters": {},
   "duration": 8.623149,
   "end_time": "2021-05-13T01:04:13.459718",
   "environment_variables": {},
   "exception": null,
   "input_path": "__notebook__.ipynb",
   "output_path": "__notebook__.ipynb",
   "parameters": {},
   "start_time": "2021-05-13T01:04:04.836569",
   "version": "2.3.2"
  }
 },
 "nbformat": 4,
 "nbformat_minor": 5
}
