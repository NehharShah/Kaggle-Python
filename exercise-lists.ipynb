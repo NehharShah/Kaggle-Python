{
 "cells": [
  {
   "cell_type": "markdown",
   "id": "working-parts",
   "metadata": {
    "papermill": {
     "duration": 0.013217,
     "end_time": "2021-05-15T11:54:47.343106",
     "exception": false,
     "start_time": "2021-05-15T11:54:47.329889",
     "status": "completed"
    },
    "tags": []
   },
   "source": [
    "**This notebook is an exercise in the [Python](https://www.kaggle.com/learn/python) course.  You can reference the tutorial at [this link](https://www.kaggle.com/colinmorris/lists).**\n",
    "\n",
    "---\n"
   ]
  },
  {
   "cell_type": "markdown",
   "id": "adverse-administrator",
   "metadata": {
    "papermill": {
     "duration": 0.012128,
     "end_time": "2021-05-15T11:54:47.367761",
     "exception": false,
     "start_time": "2021-05-15T11:54:47.355633",
     "status": "completed"
    },
    "tags": []
   },
   "source": [
    "# Try It Yourself\n",
    "\n",
    "Things get more interesting with lists. See if you can solve the questions below. Remember to run the following cell first."
   ]
  },
  {
   "cell_type": "code",
   "execution_count": 1,
   "id": "lonely-adult",
   "metadata": {
    "execution": {
     "iopub.execute_input": "2021-05-15T11:54:47.399561Z",
     "iopub.status.busy": "2021-05-15T11:54:47.398795Z",
     "iopub.status.idle": "2021-05-15T11:54:47.440196Z",
     "shell.execute_reply": "2021-05-15T11:54:47.440657Z"
    },
    "papermill": {
     "duration": 0.060595,
     "end_time": "2021-05-15T11:54:47.440926",
     "exception": false,
     "start_time": "2021-05-15T11:54:47.380331",
     "status": "completed"
    },
    "tags": []
   },
   "outputs": [
    {
     "name": "stdout",
     "output_type": "stream",
     "text": [
      "Setup complete.\n"
     ]
    }
   ],
   "source": [
    "from learntools.core import binder; binder.bind(globals())\n",
    "from learntools.python.ex4 import *\n",
    "print('Setup complete.')"
   ]
  },
  {
   "cell_type": "markdown",
   "id": "supposed-flash",
   "metadata": {
    "papermill": {
     "duration": 0.012748,
     "end_time": "2021-05-15T11:54:47.466999",
     "exception": false,
     "start_time": "2021-05-15T11:54:47.454251",
     "status": "completed"
    },
    "tags": []
   },
   "source": [
    "# Exercises"
   ]
  },
  {
   "cell_type": "markdown",
   "id": "sealed-exclusive",
   "metadata": {
    "papermill": {
     "duration": 0.012989,
     "end_time": "2021-05-15T11:54:47.492464",
     "exception": false,
     "start_time": "2021-05-15T11:54:47.479475",
     "status": "completed"
    },
    "tags": []
   },
   "source": [
    "## 1.\n",
    "\n",
    "Complete the function below according to its docstring."
   ]
  },
  {
   "cell_type": "code",
   "execution_count": 2,
   "id": "robust-associate",
   "metadata": {
    "execution": {
     "iopub.execute_input": "2021-05-15T11:54:47.525568Z",
     "iopub.status.busy": "2021-05-15T11:54:47.524766Z",
     "iopub.status.idle": "2021-05-15T11:54:47.530806Z",
     "shell.execute_reply": "2021-05-15T11:54:47.530204Z"
    },
    "papermill": {
     "duration": 0.025895,
     "end_time": "2021-05-15T11:54:47.530932",
     "exception": false,
     "start_time": "2021-05-15T11:54:47.505037",
     "status": "completed"
    },
    "tags": []
   },
   "outputs": [
    {
     "data": {
      "application/javascript": [
       "parent.postMessage({\"jupyterEvent\": \"custom.exercise_interaction\", \"data\": {\"outcomeType\": 2, \"failureMessage\": \"Got a return value of `None` given `L=[1, 2, 3]`, but expected a value of type `int`. (Did you forget a `return` statement?)\", \"interactionType\": 1, \"questionType\": 2, \"questionId\": \"1_SelectSecondItem\", \"learnToolsVersion\": \"0.3.4\", \"valueTowardsCompletion\": 0.0, \"exceptionClass\": \"\", \"trace\": \"\"}}, \"*\")"
      ],
      "text/plain": [
       "<IPython.core.display.Javascript object>"
      ]
     },
     "metadata": {},
     "output_type": "display_data"
    },
    {
     "data": {
      "text/markdown": [
       "<span style=\"color:#cc3333\">Incorrect:</span> Got a return value of `None` given `L=[1, 2, 3]`, but expected a value of type `int`. (Did you forget a `return` statement?)"
      ],
      "text/plain": [
       "Incorrect: Got a return value of `None` given `L=[1, 2, 3]`, but expected a value of type `int`. (Did you forget a `return` statement?)"
      ]
     },
     "metadata": {},
     "output_type": "display_data"
    }
   ],
   "source": [
    "def select_second(L):\n",
    "    \"\"\"Return the second element of the given list. If the list has no second\n",
    "    element, return None.\n",
    "    \"\"\"\n",
    "    if len(L) < 2:\n",
    "        return None\n",
    "    \n",
    "\n",
    "# Check your answer\n",
    "q1.check()"
   ]
  },
  {
   "cell_type": "code",
   "execution_count": 3,
   "id": "atlantic-certificate",
   "metadata": {
    "execution": {
     "iopub.execute_input": "2021-05-15T11:54:47.564933Z",
     "iopub.status.busy": "2021-05-15T11:54:47.564002Z",
     "iopub.status.idle": "2021-05-15T11:54:47.567338Z",
     "shell.execute_reply": "2021-05-15T11:54:47.566893Z"
    },
    "papermill": {
     "duration": 0.022362,
     "end_time": "2021-05-15T11:54:47.567463",
     "exception": false,
     "start_time": "2021-05-15T11:54:47.545101",
     "status": "completed"
    },
    "tags": []
   },
   "outputs": [],
   "source": [
    "#q1.hint()\n",
    "#q1.solution()"
   ]
  },
  {
   "cell_type": "markdown",
   "id": "enclosed-guard",
   "metadata": {
    "papermill": {
     "duration": 0.013719,
     "end_time": "2021-05-15T11:54:47.595278",
     "exception": false,
     "start_time": "2021-05-15T11:54:47.581559",
     "status": "completed"
    },
    "tags": []
   },
   "source": [
    "## 2.\n",
    "\n",
    "You are analyzing sports teams.  Members of each team are stored in a list. The Coach is the first name in the list, the captain is the second name in the list, and other players are listed after that. \n",
    "These lists are stored in another list, which starts with the best team and proceeds through the list to the worst team last.  Complete the function below to select the **captain** of the worst team."
   ]
  },
  {
   "cell_type": "code",
   "execution_count": 4,
   "id": "cubic-guyana",
   "metadata": {
    "execution": {
     "iopub.execute_input": "2021-05-15T11:54:47.629419Z",
     "iopub.status.busy": "2021-05-15T11:54:47.628456Z",
     "iopub.status.idle": "2021-05-15T11:54:47.634870Z",
     "shell.execute_reply": "2021-05-15T11:54:47.634275Z"
    },
    "papermill": {
     "duration": 0.025941,
     "end_time": "2021-05-15T11:54:47.634991",
     "exception": false,
     "start_time": "2021-05-15T11:54:47.609050",
     "status": "completed"
    },
    "tags": []
   },
   "outputs": [
    {
     "data": {
      "application/javascript": [
       "parent.postMessage({\"jupyterEvent\": \"custom.exercise_interaction\", \"data\": {\"outcomeType\": 1, \"valueTowardsCompletion\": 0.2, \"interactionType\": 1, \"questionType\": 2, \"questionId\": \"2_LosingTeamCaptain\", \"learnToolsVersion\": \"0.3.4\", \"failureMessage\": \"\", \"exceptionClass\": \"\", \"trace\": \"\"}}, \"*\")"
      ],
      "text/plain": [
       "<IPython.core.display.Javascript object>"
      ]
     },
     "metadata": {},
     "output_type": "display_data"
    },
    {
     "data": {
      "text/markdown": [
       "<span style=\"color:#33cc33\">Correct</span>"
      ],
      "text/plain": [
       "Correct"
      ]
     },
     "metadata": {},
     "output_type": "display_data"
    }
   ],
   "source": [
    "def losing_team_captain(teams):\n",
    "    \"\"\"Given a list of teams, where each team is a list of names, return the 2nd player (captain)\n",
    "    from the last listed team\n",
    "    \"\"\"\n",
    "    return teams[-1][1]\n",
    "    \n",
    "\n",
    "# Check your answer\n",
    "q2.check()"
   ]
  },
  {
   "cell_type": "code",
   "execution_count": 5,
   "id": "fabulous-gravity",
   "metadata": {
    "execution": {
     "iopub.execute_input": "2021-05-15T11:54:47.669289Z",
     "iopub.status.busy": "2021-05-15T11:54:47.668675Z",
     "iopub.status.idle": "2021-05-15T11:54:47.672243Z",
     "shell.execute_reply": "2021-05-15T11:54:47.671757Z"
    },
    "papermill": {
     "duration": 0.022264,
     "end_time": "2021-05-15T11:54:47.672372",
     "exception": false,
     "start_time": "2021-05-15T11:54:47.650108",
     "status": "completed"
    },
    "tags": []
   },
   "outputs": [],
   "source": [
    "#q2.hint()\n",
    "#q2.solution()"
   ]
  },
  {
   "cell_type": "markdown",
   "id": "tough-traffic",
   "metadata": {
    "papermill": {
     "duration": 0.015118,
     "end_time": "2021-05-15T11:54:47.703884",
     "exception": false,
     "start_time": "2021-05-15T11:54:47.688766",
     "status": "completed"
    },
    "tags": []
   },
   "source": [
    "## 3.\n",
    "\n",
    "The next iteration of Mario Kart will feature an extra-infuriating new item, the *Purple Shell*. When used, it warps the last place racer into first place and the first place racer into last place. Complete the function below to implement the Purple Shell's effect."
   ]
  },
  {
   "cell_type": "code",
   "execution_count": 6,
   "id": "threatened-sally",
   "metadata": {
    "execution": {
     "iopub.execute_input": "2021-05-15T11:54:47.740528Z",
     "iopub.status.busy": "2021-05-15T11:54:47.739914Z",
     "iopub.status.idle": "2021-05-15T11:54:47.745069Z",
     "shell.execute_reply": "2021-05-15T11:54:47.744421Z"
    },
    "papermill": {
     "duration": 0.025843,
     "end_time": "2021-05-15T11:54:47.745193",
     "exception": false,
     "start_time": "2021-05-15T11:54:47.719350",
     "status": "completed"
    },
    "tags": []
   },
   "outputs": [
    {
     "data": {
      "application/javascript": [
       "parent.postMessage({\"jupyterEvent\": \"custom.exercise_interaction\", \"data\": {\"outcomeType\": 1, \"valueTowardsCompletion\": 0.2, \"interactionType\": 1, \"questionType\": 2, \"questionId\": \"3_PurpleShell\", \"learnToolsVersion\": \"0.3.4\", \"failureMessage\": \"\", \"exceptionClass\": \"\", \"trace\": \"\"}}, \"*\")"
      ],
      "text/plain": [
       "<IPython.core.display.Javascript object>"
      ]
     },
     "metadata": {},
     "output_type": "display_data"
    },
    {
     "data": {
      "text/markdown": [
       "<span style=\"color:#33cc33\">Correct</span>"
      ],
      "text/plain": [
       "Correct"
      ]
     },
     "metadata": {},
     "output_type": "display_data"
    }
   ],
   "source": [
    "def purple_shell(racers):\n",
    "    \"\"\"Given a list of racers, set the first place racer (at the front of the list) to last\n",
    "    place and vice versa.\n",
    "    \n",
    "    >>> r = [\"Mario\", \"Bowser\", \"Luigi\"]\n",
    "    >>> purple_shell(r)\n",
    "    >>> r\n",
    "    [\"Luigi\", \"Bowser\", \"Mario\"]\n",
    "    \"\"\"\n",
    "    temp = racers[0]\n",
    "    racers[0] = racers[-1]\n",
    "    racers[-1] = temp\n",
    "    \n",
    "\n",
    "# Check your answer\n",
    "q3.check()"
   ]
  },
  {
   "cell_type": "code",
   "execution_count": 7,
   "id": "published-signal",
   "metadata": {
    "execution": {
     "iopub.execute_input": "2021-05-15T11:54:47.782911Z",
     "iopub.status.busy": "2021-05-15T11:54:47.782038Z",
     "iopub.status.idle": "2021-05-15T11:54:47.785146Z",
     "shell.execute_reply": "2021-05-15T11:54:47.784639Z"
    },
    "papermill": {
     "duration": 0.023355,
     "end_time": "2021-05-15T11:54:47.785269",
     "exception": false,
     "start_time": "2021-05-15T11:54:47.761914",
     "status": "completed"
    },
    "tags": []
   },
   "outputs": [],
   "source": [
    "#q3.hint()\n",
    "#q3.solution()"
   ]
  },
  {
   "cell_type": "markdown",
   "id": "sustainable-visit",
   "metadata": {
    "papermill": {
     "duration": 0.016581,
     "end_time": "2021-05-15T11:54:47.818713",
     "exception": false,
     "start_time": "2021-05-15T11:54:47.802132",
     "status": "completed"
    },
    "tags": []
   },
   "source": [
    "## 4.\n",
    "\n",
    "What are the lengths of the following lists? Fill in the variable `lengths` with your predictions. (Try to make a prediction for each list *without* just calling `len()` on it.)"
   ]
  },
  {
   "cell_type": "code",
   "execution_count": 8,
   "id": "dramatic-newcastle",
   "metadata": {
    "execution": {
     "iopub.execute_input": "2021-05-15T11:54:47.856446Z",
     "iopub.status.busy": "2021-05-15T11:54:47.855570Z",
     "iopub.status.idle": "2021-05-15T11:54:47.863841Z",
     "shell.execute_reply": "2021-05-15T11:54:47.864377Z"
    },
    "papermill": {
     "duration": 0.028981,
     "end_time": "2021-05-15T11:54:47.864536",
     "exception": false,
     "start_time": "2021-05-15T11:54:47.835555",
     "status": "completed"
    },
    "tags": []
   },
   "outputs": [
    {
     "data": {
      "application/javascript": [
       "parent.postMessage({\"jupyterEvent\": \"custom.exercise_interaction\", \"data\": {\"outcomeType\": 1, \"valueTowardsCompletion\": 0.2, \"interactionType\": 1, \"questionType\": 1, \"questionId\": \"4_UnderstandLen\", \"learnToolsVersion\": \"0.3.4\", \"failureMessage\": \"\", \"exceptionClass\": \"\", \"trace\": \"\"}}, \"*\")"
      ],
      "text/plain": [
       "<IPython.core.display.Javascript object>"
      ]
     },
     "metadata": {},
     "output_type": "display_data"
    },
    {
     "data": {
      "text/markdown": [
       "<span style=\"color:#33cc33\">Correct:</span> \n",
       "\n",
       "\n",
       "- a: There are three items in this list. Nothing tricky yet.\n",
       "- b: The list `[2, 3]` counts as a single item. It has one item before it. So we have 2 items in the list\n",
       "- c: The empty list has 0 items\n",
       "- d: The expression is the same as the list `[2, 3]`, which has length 2."
      ],
      "text/plain": [
       "Correct: \n",
       "\n",
       "\n",
       "- a: There are three items in this list. Nothing tricky yet.\n",
       "- b: The list `[2, 3]` counts as a single item. It has one item before it. So we have 2 items in the list\n",
       "- c: The empty list has 0 items\n",
       "- d: The expression is the same as the list `[2, 3]`, which has length 2."
      ]
     },
     "metadata": {},
     "output_type": "display_data"
    }
   ],
   "source": [
    "a = [1, 2, 3]\n",
    "b = [1, [2, 3]]\n",
    "c = []\n",
    "d = [1, 2, 3][1:]\n",
    "\n",
    "# Put your predictions in the list below. Lengths should contain 4 numbers, the\n",
    "# first being the length of a, the second being the length of b and so on.\n",
    "lengths = [3, 2, 0, 2]\n",
    "\n",
    "# Check your answer\n",
    "q4.check()"
   ]
  },
  {
   "cell_type": "code",
   "execution_count": 9,
   "id": "commercial-wilderness",
   "metadata": {
    "execution": {
     "iopub.execute_input": "2021-05-15T11:54:47.904022Z",
     "iopub.status.busy": "2021-05-15T11:54:47.903140Z",
     "iopub.status.idle": "2021-05-15T11:54:47.906217Z",
     "shell.execute_reply": "2021-05-15T11:54:47.906664Z"
    },
    "papermill": {
     "duration": 0.02434,
     "end_time": "2021-05-15T11:54:47.906831",
     "exception": false,
     "start_time": "2021-05-15T11:54:47.882491",
     "status": "completed"
    },
    "tags": []
   },
   "outputs": [],
   "source": [
    "# line below provides some explanation\n",
    "#q4.solution()"
   ]
  },
  {
   "cell_type": "markdown",
   "id": "loaded-block",
   "metadata": {
    "papermill": {
     "duration": 0.01752,
     "end_time": "2021-05-15T11:54:47.941861",
     "exception": false,
     "start_time": "2021-05-15T11:54:47.924341",
     "status": "completed"
    },
    "tags": []
   },
   "source": [
    "## 5. <span title=\"A bit spicy\" style=\"color: darkgreen \">🌶️</span>\n",
    "\n",
    "We're using lists to record people who attended our party and what order they arrived in. For example, the following list represents a party with 7 guests, in which Adela showed up first and Ford was the last to arrive:\n",
    "\n",
    "    party_attendees = ['Adela', 'Fleda', 'Owen', 'May', 'Mona', 'Gilbert', 'Ford']\n",
    "\n",
    "A guest is considered 'fashionably late' if they arrived after at least half of the party's guests. However, they must not be the very last guest (that's taking it too far). In the above example, Mona and Gilbert are the only guests who were fashionably late.\n",
    "\n",
    "Complete the function below which takes a list of party attendees as well as a person, and tells us whether that person is fashionably late."
   ]
  },
  {
   "cell_type": "code",
   "execution_count": 10,
   "id": "activated-walter",
   "metadata": {
    "execution": {
     "iopub.execute_input": "2021-05-15T11:54:47.981627Z",
     "iopub.status.busy": "2021-05-15T11:54:47.980726Z",
     "iopub.status.idle": "2021-05-15T11:54:47.989031Z",
     "shell.execute_reply": "2021-05-15T11:54:47.989596Z"
    },
    "papermill": {
     "duration": 0.029849,
     "end_time": "2021-05-15T11:54:47.989765",
     "exception": false,
     "start_time": "2021-05-15T11:54:47.959916",
     "status": "completed"
    },
    "tags": []
   },
   "outputs": [
    {
     "data": {
      "application/javascript": [
       "parent.postMessage({\"jupyterEvent\": \"custom.exercise_interaction\", \"data\": {\"outcomeType\": 1, \"valueTowardsCompletion\": 0.2, \"interactionType\": 1, \"questionType\": 2, \"questionId\": \"5_FashionablyLate\", \"learnToolsVersion\": \"0.3.4\", \"failureMessage\": \"\", \"exceptionClass\": \"\", \"trace\": \"\"}}, \"*\")"
      ],
      "text/plain": [
       "<IPython.core.display.Javascript object>"
      ]
     },
     "metadata": {},
     "output_type": "display_data"
    },
    {
     "data": {
      "text/markdown": [
       "<span style=\"color:#33cc33\">Correct</span>"
      ],
      "text/plain": [
       "Correct"
      ]
     },
     "metadata": {},
     "output_type": "display_data"
    }
   ],
   "source": [
    "def fashionably_late(arrivals, name):\n",
    "    \"\"\"Given an ordered list of arrivals to the party and a name, return whether the guest with that\n",
    "    name was fashionably late.\n",
    "    \"\"\"\n",
    "    no_of_attendees = len(arrivals)\n",
    "    if arrivals.index(name)+1 > (round(no_of_attendees/2)) and (arrivals.index(name)+1) < no_of_attendees:\n",
    "        return True\n",
    "    else: \n",
    "        return False\n",
    "\n",
    "# Check your answer\n",
    "q5.check()"
   ]
  },
  {
   "cell_type": "code",
   "execution_count": 11,
   "id": "aboriginal-scope",
   "metadata": {
    "execution": {
     "iopub.execute_input": "2021-05-15T11:54:48.031658Z",
     "iopub.status.busy": "2021-05-15T11:54:48.030818Z",
     "iopub.status.idle": "2021-05-15T11:54:48.033886Z",
     "shell.execute_reply": "2021-05-15T11:54:48.034279Z"
    },
    "papermill": {
     "duration": 0.025493,
     "end_time": "2021-05-15T11:54:48.034424",
     "exception": false,
     "start_time": "2021-05-15T11:54:48.008931",
     "status": "completed"
    },
    "tags": []
   },
   "outputs": [],
   "source": [
    "#q5.hint()\n",
    "#q5.solution()"
   ]
  },
  {
   "cell_type": "markdown",
   "id": "recreational-exemption",
   "metadata": {
    "papermill": {
     "duration": 0.018678,
     "end_time": "2021-05-15T11:54:48.071918",
     "exception": false,
     "start_time": "2021-05-15T11:54:48.053240",
     "status": "completed"
    },
    "tags": []
   },
   "source": [
    "# Keep Going\n",
    "\n",
    "That's it for lists and tuples! Now you have the baseline knowledge to **[learn about loops](https://www.kaggle.com/colinmorris/loops-and-list-comprehensions)**, which is where lists and tuples get really interesting. "
   ]
  },
  {
   "cell_type": "markdown",
   "id": "faced-being",
   "metadata": {
    "papermill": {
     "duration": 0.018501,
     "end_time": "2021-05-15T11:54:48.109382",
     "exception": false,
     "start_time": "2021-05-15T11:54:48.090881",
     "status": "completed"
    },
    "tags": []
   },
   "source": [
    "---\n",
    "\n",
    "\n",
    "\n",
    "\n",
    "*Have questions or comments? Visit the [Learn Discussion forum](https://www.kaggle.com/learn-forum/161283) to chat with other Learners.*"
   ]
  }
 ],
 "metadata": {
  "kernelspec": {
   "display_name": "Python 3",
   "language": "python",
   "name": "python3"
  },
  "language_info": {
   "codemirror_mode": {
    "name": "ipython",
    "version": 3
   },
   "file_extension": ".py",
   "mimetype": "text/x-python",
   "name": "python",
   "nbconvert_exporter": "python",
   "pygments_lexer": "ipython3",
   "version": "3.7.9"
  },
  "papermill": {
   "default_parameters": {},
   "duration": 7.265425,
   "end_time": "2021-05-15T11:54:48.636986",
   "environment_variables": {},
   "exception": null,
   "input_path": "__notebook__.ipynb",
   "output_path": "__notebook__.ipynb",
   "parameters": {},
   "start_time": "2021-05-15T11:54:41.371561",
   "version": "2.3.2"
  }
 },
 "nbformat": 4,
 "nbformat_minor": 5
}
