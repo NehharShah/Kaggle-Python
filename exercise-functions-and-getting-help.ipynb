{
 "cells": [
  {
   "cell_type": "markdown",
   "id": "encouraging-substance",
   "metadata": {
    "papermill": {
     "duration": 0.013916,
     "end_time": "2021-05-13T01:19:24.895982",
     "exception": false,
     "start_time": "2021-05-13T01:19:24.882066",
     "status": "completed"
    },
    "tags": []
   },
   "source": [
    "**This notebook is an exercise in the [Python](https://www.kaggle.com/learn/python) course.  You can reference the tutorial at [this link](https://www.kaggle.com/colinmorris/functions-and-getting-help).**\n",
    "\n",
    "---\n"
   ]
  },
  {
   "cell_type": "markdown",
   "id": "horizontal-station",
   "metadata": {
    "papermill": {
     "duration": 0.012581,
     "end_time": "2021-05-13T01:19:24.921683",
     "exception": false,
     "start_time": "2021-05-13T01:19:24.909102",
     "status": "completed"
    },
    "tags": []
   },
   "source": [
    "# Try It Yourself\n",
    "\n",
    "Functions are powerful. Try writing some yourself.\n",
    "\n",
    "As before, don't forget to run the setup code below before jumping into question 1."
   ]
  },
  {
   "cell_type": "code",
   "execution_count": 1,
   "id": "packed-reliance",
   "metadata": {
    "_kg_hide-input": true,
    "_kg_hide-output": true,
    "execution": {
     "iopub.execute_input": "2021-05-13T01:19:24.954728Z",
     "iopub.status.busy": "2021-05-13T01:19:24.953991Z",
     "iopub.status.idle": "2021-05-13T01:19:25.001741Z",
     "shell.execute_reply": "2021-05-13T01:19:25.000763Z"
    },
    "papermill": {
     "duration": 0.067484,
     "end_time": "2021-05-13T01:19:25.001927",
     "exception": false,
     "start_time": "2021-05-13T01:19:24.934443",
     "status": "completed"
    },
    "tags": []
   },
   "outputs": [
    {
     "name": "stdout",
     "output_type": "stream",
     "text": [
      "Setup complete.\n"
     ]
    }
   ],
   "source": [
    "# SETUP. You don't need to worry for now about what this code does or how it works.\n",
    "from learntools.core import binder; binder.bind(globals())\n",
    "from learntools.python.ex2 import *\n",
    "print('Setup complete.')"
   ]
  },
  {
   "cell_type": "markdown",
   "id": "annoying-gothic",
   "metadata": {
    "papermill": {
     "duration": 0.012773,
     "end_time": "2021-05-13T01:19:25.028516",
     "exception": false,
     "start_time": "2021-05-13T01:19:25.015743",
     "status": "completed"
    },
    "tags": []
   },
   "source": [
    "# Exercises"
   ]
  },
  {
   "cell_type": "markdown",
   "id": "norwegian-cricket",
   "metadata": {
    "papermill": {
     "duration": 0.012677,
     "end_time": "2021-05-13T01:19:25.054293",
     "exception": false,
     "start_time": "2021-05-13T01:19:25.041616",
     "status": "completed"
    },
    "tags": []
   },
   "source": [
    "## 1.\n",
    "\n",
    "Complete the body of the following function according to its docstring.\n",
    "\n",
    "HINT: Python has a built-in function `round`."
   ]
  },
  {
   "cell_type": "code",
   "execution_count": 2,
   "id": "chief-judge",
   "metadata": {
    "execution": {
     "iopub.execute_input": "2021-05-13T01:19:25.089301Z",
     "iopub.status.busy": "2021-05-13T01:19:25.088397Z",
     "iopub.status.idle": "2021-05-13T01:19:25.094312Z",
     "shell.execute_reply": "2021-05-13T01:19:25.094797Z"
    },
    "papermill": {
     "duration": 0.027593,
     "end_time": "2021-05-13T01:19:25.094993",
     "exception": false,
     "start_time": "2021-05-13T01:19:25.067400",
     "status": "completed"
    },
    "tags": []
   },
   "outputs": [
    {
     "data": {
      "application/javascript": [
       "parent.postMessage({\"jupyterEvent\": \"custom.exercise_interaction\", \"data\": {\"outcomeType\": 1, \"valueTowardsCompletion\": 0.16666666666666666, \"interactionType\": 1, \"questionType\": 2, \"questionId\": \"1_RoundFunctionProblem\", \"learnToolsVersion\": \"0.3.4\", \"failureMessage\": \"\", \"exceptionClass\": \"\", \"trace\": \"\"}}, \"*\")"
      ],
      "text/plain": [
       "<IPython.core.display.Javascript object>"
      ]
     },
     "metadata": {},
     "output_type": "display_data"
    },
    {
     "data": {
      "text/markdown": [
       "<span style=\"color:#33cc33\">Correct</span>"
      ],
      "text/plain": [
       "Correct"
      ]
     },
     "metadata": {},
     "output_type": "display_data"
    }
   ],
   "source": [
    "def round_to_two_places(num):\n",
    "    \"\"\"Return the given number rounded to two decimal places. \n",
    "    \n",
    "    >>> round_to_two_places(3.14159)\n",
    "    3.14\n",
    "    \"\"\"\n",
    "    # Replace this body with your own code.\n",
    "    # (\"pass\" is a keyword that does literally nothing. We used it as a placeholder\n",
    "    # because after we begin a code block, Python requires at least one line of code)\n",
    "    return round(num, 2)\n",
    "\n",
    "# Check your answer\n",
    "q1.check()"
   ]
  },
  {
   "cell_type": "code",
   "execution_count": 3,
   "id": "going-liechtenstein",
   "metadata": {
    "execution": {
     "iopub.execute_input": "2021-05-13T01:19:25.129902Z",
     "iopub.status.busy": "2021-05-13T01:19:25.129150Z",
     "iopub.status.idle": "2021-05-13T01:19:25.132272Z",
     "shell.execute_reply": "2021-05-13T01:19:25.131546Z"
    },
    "papermill": {
     "duration": 0.02278,
     "end_time": "2021-05-13T01:19:25.132425",
     "exception": false,
     "start_time": "2021-05-13T01:19:25.109645",
     "status": "completed"
    },
    "tags": []
   },
   "outputs": [],
   "source": [
    "# Uncomment the following for a hint\n",
    "#q1.hint()\n",
    "# Or uncomment the following to peek at the solution\n",
    "#q1.solution()"
   ]
  },
  {
   "cell_type": "markdown",
   "id": "ongoing-filename",
   "metadata": {
    "papermill": {
     "duration": 0.014673,
     "end_time": "2021-05-13T01:19:25.161637",
     "exception": false,
     "start_time": "2021-05-13T01:19:25.146964",
     "status": "completed"
    },
    "tags": []
   },
   "source": [
    "## 2.\n",
    "The help for `round` says that `ndigits` (the second argument) may be negative.\n",
    "What do you think will happen when it is? Try some examples in the following cell?\n",
    "\n",
    "Can you think of a case where this would be useful?"
   ]
  },
  {
   "cell_type": "code",
   "execution_count": 4,
   "id": "understood-logistics",
   "metadata": {
    "execution": {
     "iopub.execute_input": "2021-05-13T01:19:25.195716Z",
     "iopub.status.busy": "2021-05-13T01:19:25.194953Z",
     "iopub.status.idle": "2021-05-13T01:19:25.200091Z",
     "shell.execute_reply": "2021-05-13T01:19:25.199532Z"
    },
    "papermill": {
     "duration": 0.024313,
     "end_time": "2021-05-13T01:19:25.200252",
     "exception": false,
     "start_time": "2021-05-13T01:19:25.175939",
     "status": "completed"
    },
    "tags": []
   },
   "outputs": [
    {
     "data": {
      "text/plain": [
       "-1"
      ]
     },
     "execution_count": 4,
     "metadata": {},
     "output_type": "execute_result"
    }
   ],
   "source": [
    "# Put your test code here\n",
    "num = -1.4546\n",
    "round(num)"
   ]
  },
  {
   "cell_type": "code",
   "execution_count": 5,
   "id": "incoming-conversion",
   "metadata": {
    "execution": {
     "iopub.execute_input": "2021-05-13T01:19:25.235321Z",
     "iopub.status.busy": "2021-05-13T01:19:25.234538Z",
     "iopub.status.idle": "2021-05-13T01:19:25.240113Z",
     "shell.execute_reply": "2021-05-13T01:19:25.239482Z"
    },
    "papermill": {
     "duration": 0.025052,
     "end_time": "2021-05-13T01:19:25.240301",
     "exception": false,
     "start_time": "2021-05-13T01:19:25.215249",
     "status": "completed"
    },
    "tags": []
   },
   "outputs": [
    {
     "data": {
      "application/javascript": [
       "parent.postMessage({\"jupyterEvent\": \"custom.exercise_interaction\", \"data\": {\"interactionType\": 3, \"questionType\": 4, \"questionId\": \"2_RoundNdigitsProblem\", \"learnToolsVersion\": \"0.3.4\", \"valueTowardsCompletion\": 0.0, \"failureMessage\": \"\", \"exceptionClass\": \"\", \"trace\": \"\", \"outcomeType\": 4}}, \"*\")"
      ],
      "text/plain": [
       "<IPython.core.display.Javascript object>"
      ]
     },
     "metadata": {},
     "output_type": "display_data"
    },
    {
     "data": {
      "text/markdown": [
       "<span style=\"color:#33cc99\">Solution:</span> As you've seen, `ndigits=-1` rounds to the nearest 10, `ndigits=-2` rounds to the nearest 100 and so on. Where might this be useful? Suppose we're dealing with large numbers:\n",
       "\n",
       "> The area of Finland is 338,424 km²  \n",
       "> The area of Greenland is 2,166,086 km²\n",
       "\n",
       "We probably don't care whether it's really 338,424, or 338,425, or 338,177. All those digits of accuracy are just distracting. We can chop them off by calling `round()` with `ndigits=-3`:\n",
       "\n",
       "> The area of Finland is 338,000 km²  \n",
       "> The area of Greenland is 2,166,000 km²\n",
       "\n",
       "(We'll talk about how we would get the commas later when we talk about string formatting :))\n"
      ],
      "text/plain": [
       "Solution: As you've seen, `ndigits=-1` rounds to the nearest 10, `ndigits=-2` rounds to the nearest 100 and so on. Where might this be useful? Suppose we're dealing with large numbers:\n",
       "\n",
       "> The area of Finland is 338,424 km²  \n",
       "> The area of Greenland is 2,166,086 km²\n",
       "\n",
       "We probably don't care whether it's really 338,424, or 338,425, or 338,177. All those digits of accuracy are just distracting. We can chop them off by calling `round()` with `ndigits=-3`:\n",
       "\n",
       "> The area of Finland is 338,000 km²  \n",
       "> The area of Greenland is 2,166,000 km²\n",
       "\n",
       "(We'll talk about how we would get the commas later when we talk about string formatting :))"
      ]
     },
     "metadata": {},
     "output_type": "display_data"
    }
   ],
   "source": [
    "# Check your answer (Run this code cell to receive credit!)\n",
    "q2.solution()"
   ]
  },
  {
   "cell_type": "markdown",
   "id": "requested-copying",
   "metadata": {
    "papermill": {
     "duration": 0.015821,
     "end_time": "2021-05-13T01:19:25.272497",
     "exception": false,
     "start_time": "2021-05-13T01:19:25.256676",
     "status": "completed"
    },
    "tags": []
   },
   "source": [
    "## 3.\n",
    "\n",
    "In a previous programming problem, the candy-sharing friends Alice, Bob and Carol tried to split candies evenly. For the sake of their friendship, any candies left over would be smashed. For example, if they collectively bring home 91 candies, they'll take 30 each and smash 1.\n",
    "\n",
    "Below is a simple function that will calculate the number of candies to smash for *any* number of total candies.\n",
    "\n",
    "Modify it so that it optionally takes a second argument representing the number of friends the candies are being split between. If no second argument is provided, it should assume 3 friends, as before.\n",
    "\n",
    "Update the docstring to reflect this new behaviour."
   ]
  },
  {
   "cell_type": "code",
   "execution_count": 6,
   "id": "compound-continent",
   "metadata": {
    "execution": {
     "iopub.execute_input": "2021-05-13T01:19:25.308399Z",
     "iopub.status.busy": "2021-05-13T01:19:25.307677Z",
     "iopub.status.idle": "2021-05-13T01:19:25.315436Z",
     "shell.execute_reply": "2021-05-13T01:19:25.314740Z"
    },
    "papermill": {
     "duration": 0.026955,
     "end_time": "2021-05-13T01:19:25.315603",
     "exception": false,
     "start_time": "2021-05-13T01:19:25.288648",
     "status": "completed"
    },
    "tags": []
   },
   "outputs": [
    {
     "data": {
      "application/javascript": [
       "parent.postMessage({\"jupyterEvent\": \"custom.exercise_interaction\", \"data\": {\"outcomeType\": 1, \"valueTowardsCompletion\": 0.16666666666666666, \"interactionType\": 1, \"questionType\": 2, \"questionId\": \"3_CandySmashingFunctionProblem\", \"learnToolsVersion\": \"0.3.4\", \"failureMessage\": \"\", \"exceptionClass\": \"\", \"trace\": \"\"}}, \"*\")"
      ],
      "text/plain": [
       "<IPython.core.display.Javascript object>"
      ]
     },
     "metadata": {},
     "output_type": "display_data"
    },
    {
     "data": {
      "text/markdown": [
       "<span style=\"color:#33cc33\">Correct</span>"
      ],
      "text/plain": [
       "Correct"
      ]
     },
     "metadata": {},
     "output_type": "display_data"
    }
   ],
   "source": [
    "def to_smash(total_candies, n_friends=3):\n",
    "    \"\"\"Return the number of leftover candies that must be smashed after distributing\n",
    "    the given number of candies evenly between 3 friends.\n",
    "    \n",
    "    >>> to_smash(91)\n",
    "    1\n",
    "    \"\"\"\n",
    "    return total_candies % n_friends\n",
    "\n",
    "# Check your answer\n",
    "q3.check()"
   ]
  },
  {
   "cell_type": "code",
   "execution_count": 7,
   "id": "acceptable-force",
   "metadata": {
    "execution": {
     "iopub.execute_input": "2021-05-13T01:19:25.353468Z",
     "iopub.status.busy": "2021-05-13T01:19:25.352735Z",
     "iopub.status.idle": "2021-05-13T01:19:25.356491Z",
     "shell.execute_reply": "2021-05-13T01:19:25.357092Z"
    },
    "papermill": {
     "duration": 0.024528,
     "end_time": "2021-05-13T01:19:25.357322",
     "exception": false,
     "start_time": "2021-05-13T01:19:25.332794",
     "status": "completed"
    },
    "tags": []
   },
   "outputs": [],
   "source": [
    "#q3.hint()"
   ]
  },
  {
   "cell_type": "code",
   "execution_count": 8,
   "id": "periodic-formation",
   "metadata": {
    "execution": {
     "iopub.execute_input": "2021-05-13T01:19:25.396278Z",
     "iopub.status.busy": "2021-05-13T01:19:25.395578Z",
     "iopub.status.idle": "2021-05-13T01:19:25.399279Z",
     "shell.execute_reply": "2021-05-13T01:19:25.399812Z"
    },
    "papermill": {
     "duration": 0.024291,
     "end_time": "2021-05-13T01:19:25.399993",
     "exception": false,
     "start_time": "2021-05-13T01:19:25.375702",
     "status": "completed"
    },
    "tags": []
   },
   "outputs": [],
   "source": [
    "#q3.solution()"
   ]
  },
  {
   "cell_type": "markdown",
   "id": "worse-access",
   "metadata": {
    "papermill": {
     "duration": 0.017126,
     "end_time": "2021-05-13T01:19:25.434652",
     "exception": false,
     "start_time": "2021-05-13T01:19:25.417526",
     "status": "completed"
    },
    "tags": []
   },
   "source": [
    "## 4. (Optional)\n",
    "\n",
    "It may not be fun, but reading and understanding error messages will be an important part of your Python career.\n",
    "\n",
    "Each code cell below contains some commented-out buggy code. For each cell...\n",
    "\n",
    "1. Read the code and predict what you think will happen when it's run.\n",
    "2. Then uncomment the code and run it to see what happens. (**Tip**: In the kernel editor, you can highlight several lines and press `ctrl`+`/` to toggle commenting.)\n",
    "3. Fix the code (so that it accomplishes its intended purpose without throwing an exception)\n",
    "\n",
    "<!-- TODO: should this be autochecked? Delta is probably pretty small. -->"
   ]
  },
  {
   "cell_type": "code",
   "execution_count": 9,
   "id": "mature-atlanta",
   "metadata": {
    "execution": {
     "iopub.execute_input": "2021-05-13T01:19:25.477004Z",
     "iopub.status.busy": "2021-05-13T01:19:25.476052Z",
     "iopub.status.idle": "2021-05-13T01:19:25.480724Z",
     "shell.execute_reply": "2021-05-13T01:19:25.481452Z"
    },
    "papermill": {
     "duration": 0.029725,
     "end_time": "2021-05-13T01:19:25.481705",
     "exception": false,
     "start_time": "2021-05-13T01:19:25.451980",
     "status": "completed"
    },
    "tags": []
   },
   "outputs": [
    {
     "data": {
      "text/plain": [
       "10"
      ]
     },
     "execution_count": 9,
     "metadata": {},
     "output_type": "execute_result"
    }
   ],
   "source": [
    "round(9.9999)"
   ]
  },
  {
   "cell_type": "code",
   "execution_count": 10,
   "id": "minus-sensitivity",
   "metadata": {
    "execution": {
     "iopub.execute_input": "2021-05-13T01:19:25.522251Z",
     "iopub.status.busy": "2021-05-13T01:19:25.521514Z",
     "iopub.status.idle": "2021-05-13T01:19:25.526263Z",
     "shell.execute_reply": "2021-05-13T01:19:25.526766Z"
    },
    "papermill": {
     "duration": 0.026448,
     "end_time": "2021-05-13T01:19:25.526962",
     "exception": false,
     "start_time": "2021-05-13T01:19:25.500514",
     "status": "completed"
    },
    "tags": []
   },
   "outputs": [],
   "source": [
    "x = -10\n",
    "y = 5\n",
    "\n",
    "\n",
    "def smallest_abs(a,b):\n",
    "    i1 = abs(a)\n",
    "    i2 = abs(b)\n",
    "    return min(i1,i2)"
   ]
  },
  {
   "cell_type": "code",
   "execution_count": 11,
   "id": "exclusive-dining",
   "metadata": {
    "execution": {
     "iopub.execute_input": "2021-05-13T01:19:25.566546Z",
     "iopub.status.busy": "2021-05-13T01:19:25.565847Z",
     "iopub.status.idle": "2021-05-13T01:19:25.569079Z",
     "shell.execute_reply": "2021-05-13T01:19:25.569596Z"
    },
    "papermill": {
     "duration": 0.024763,
     "end_time": "2021-05-13T01:19:25.569782",
     "exception": false,
     "start_time": "2021-05-13T01:19:25.545019",
     "status": "completed"
    },
    "tags": []
   },
   "outputs": [],
   "source": [
    "# def f(x):\n",
    "#     y = abs(x)\n",
    "# return y\n",
    "\n",
    "# print(f(5))"
   ]
  },
  {
   "cell_type": "markdown",
   "id": "returning-invasion",
   "metadata": {
    "papermill": {
     "duration": 0.01774,
     "end_time": "2021-05-13T01:19:25.605557",
     "exception": false,
     "start_time": "2021-05-13T01:19:25.587817",
     "status": "completed"
    },
    "tags": []
   },
   "source": [
    "# Keep Going\n",
    "\n",
    "Nice job with the code. Next up, you'll learn about *conditionals*, which you'll need to write interesting programs. Keep going **[here](https://www.kaggle.com/colinmorris/booleans-and-conditionals)**"
   ]
  },
  {
   "cell_type": "markdown",
   "id": "improved-prophet",
   "metadata": {
    "papermill": {
     "duration": 0.017661,
     "end_time": "2021-05-13T01:19:25.641325",
     "exception": false,
     "start_time": "2021-05-13T01:19:25.623664",
     "status": "completed"
    },
    "tags": []
   },
   "source": [
    "---\n",
    "\n",
    "\n",
    "\n",
    "\n",
    "*Have questions or comments? Visit the [Learn Discussion forum](https://www.kaggle.com/learn-forum/161283) to chat with other Learners.*"
   ]
  }
 ],
 "metadata": {
  "kernelspec": {
   "display_name": "Python 3",
   "language": "python",
   "name": "python3"
  },
  "language_info": {
   "codemirror_mode": {
    "name": "ipython",
    "version": 3
   },
   "file_extension": ".py",
   "mimetype": "text/x-python",
   "name": "python",
   "nbconvert_exporter": "python",
   "pygments_lexer": "ipython3",
   "version": "3.7.9"
  },
  "papermill": {
   "default_parameters": {},
   "duration": 7.630314,
   "end_time": "2021-05-13T01:19:26.268824",
   "environment_variables": {},
   "exception": null,
   "input_path": "__notebook__.ipynb",
   "output_path": "__notebook__.ipynb",
   "parameters": {},
   "start_time": "2021-05-13T01:19:18.638510",
   "version": "2.3.2"
  }
 },
 "nbformat": 4,
 "nbformat_minor": 5
}
