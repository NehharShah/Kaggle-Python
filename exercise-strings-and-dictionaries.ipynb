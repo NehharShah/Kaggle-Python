{
 "cells": [
  {
   "cell_type": "markdown",
   "id": "electoral-desert",
   "metadata": {
    "papermill": {
     "duration": 0.011128,
     "end_time": "2021-05-15T12:36:22.691093",
     "exception": false,
     "start_time": "2021-05-15T12:36:22.679965",
     "status": "completed"
    },
    "tags": []
   },
   "source": [
    "**[Python Home Page](https://www.kaggle.com/learn/python)**\n",
    "\n",
    "---\n"
   ]
  },
  {
   "cell_type": "markdown",
   "id": "persistent-spider",
   "metadata": {
    "papermill": {
     "duration": 0.009305,
     "end_time": "2021-05-15T12:36:22.710550",
     "exception": false,
     "start_time": "2021-05-15T12:36:22.701245",
     "status": "completed"
    },
    "tags": []
   },
   "source": [
    "# Try It Yourself\n",
    "\n",
    "You are almost done with the course. Nice job. \n",
    "\n",
    "Fortunately, we have a couple more interesting problems for you before you go. \n",
    "\n",
    "As always, run the setup code below before working on the questions."
   ]
  },
  {
   "cell_type": "code",
   "execution_count": 1,
   "id": "searching-korean",
   "metadata": {
    "execution": {
     "iopub.execute_input": "2021-05-15T12:36:22.735755Z",
     "iopub.status.busy": "2021-05-15T12:36:22.735206Z",
     "iopub.status.idle": "2021-05-15T12:36:22.794042Z",
     "shell.execute_reply": "2021-05-15T12:36:22.794527Z"
    },
    "papermill": {
     "duration": 0.07472,
     "end_time": "2021-05-15T12:36:22.794818",
     "exception": false,
     "start_time": "2021-05-15T12:36:22.720098",
     "status": "completed"
    },
    "tags": []
   },
   "outputs": [
    {
     "name": "stdout",
     "output_type": "stream",
     "text": [
      "Setup complete.\n"
     ]
    }
   ],
   "source": [
    "from learntools.core import binder; binder.bind(globals())\n",
    "from learntools.python.ex6 import *\n",
    "print('Setup complete.')"
   ]
  },
  {
   "cell_type": "markdown",
   "id": "apart-process",
   "metadata": {
    "papermill": {
     "duration": 0.009475,
     "end_time": "2021-05-15T12:36:22.814832",
     "exception": false,
     "start_time": "2021-05-15T12:36:22.805357",
     "status": "completed"
    },
    "tags": []
   },
   "source": [
    "# Exercises"
   ]
  },
  {
   "cell_type": "markdown",
   "id": "unique-judges",
   "metadata": {
    "papermill": {
     "duration": 0.010038,
     "end_time": "2021-05-15T12:36:22.834806",
     "exception": false,
     "start_time": "2021-05-15T12:36:22.824768",
     "status": "completed"
    },
    "tags": []
   },
   "source": [
    "## 0. \n",
    "\n",
    "Let's start with a string lightning round to warm up. What are the lengths of the strings below?\n",
    "\n",
    "For each of the five strings below, predict what `len()` would return when passed that string. Use the variable `length` to record your answer, then run the cell to check whether you were right.  "
   ]
  },
  {
   "cell_type": "code",
   "execution_count": 2,
   "id": "removable-bulgaria",
   "metadata": {
    "execution": {
     "iopub.execute_input": "2021-05-15T12:36:22.862740Z",
     "iopub.status.busy": "2021-05-15T12:36:22.861524Z",
     "iopub.status.idle": "2021-05-15T12:36:22.867486Z",
     "shell.execute_reply": "2021-05-15T12:36:22.867030Z"
    },
    "papermill": {
     "duration": 0.022674,
     "end_time": "2021-05-15T12:36:22.867677",
     "exception": false,
     "start_time": "2021-05-15T12:36:22.845003",
     "status": "completed"
    },
    "tags": []
   },
   "outputs": [
    {
     "data": {
      "application/javascript": [
       "parent.postMessage({\"jupyterEvent\": \"custom.exercise_interaction\", \"data\": {\"outcomeType\": 1, \"valueTowardsCompletion\": 0.3333333333333333, \"interactionType\": 1, \"questionType\": 1, \"questionId\": \"0.1_ZA\", \"learnToolsVersion\": \"0.3.4\", \"failureMessage\": \"\", \"exceptionClass\": \"\", \"trace\": \"\"}}, \"*\")"
      ],
      "text/plain": [
       "<IPython.core.display.Javascript object>"
      ]
     },
     "metadata": {},
     "output_type": "display_data"
    },
    {
     "data": {
      "text/markdown": [
       "<span style=\"color:#33cc33\">Correct:</span> \n",
       "\n",
       "The empty string has length zero. Note that the empty string is also the only string that Python considers as False when converting to boolean."
      ],
      "text/plain": [
       "Correct: \n",
       "\n",
       "The empty string has length zero. Note that the empty string is also the only string that Python considers as False when converting to boolean."
      ]
     },
     "metadata": {},
     "output_type": "display_data"
    }
   ],
   "source": [
    "a = \"\"\n",
    "length = len(a)\n",
    "q0.a.check()"
   ]
  },
  {
   "cell_type": "code",
   "execution_count": 3,
   "id": "fantastic-boutique",
   "metadata": {
    "execution": {
     "iopub.execute_input": "2021-05-15T12:36:22.895845Z",
     "iopub.status.busy": "2021-05-15T12:36:22.895147Z",
     "iopub.status.idle": "2021-05-15T12:36:22.899221Z",
     "shell.execute_reply": "2021-05-15T12:36:22.899657Z"
    },
    "papermill": {
     "duration": 0.021187,
     "end_time": "2021-05-15T12:36:22.899822",
     "exception": false,
     "start_time": "2021-05-15T12:36:22.878635",
     "status": "completed"
    },
    "tags": []
   },
   "outputs": [
    {
     "data": {
      "application/javascript": [
       "parent.postMessage({\"jupyterEvent\": \"custom.exercise_interaction\", \"data\": {\"outcomeType\": 1, \"valueTowardsCompletion\": 0.3333333333333333, \"interactionType\": 1, \"questionType\": 1, \"questionId\": \"0.2_ZB\", \"learnToolsVersion\": \"0.3.4\", \"failureMessage\": \"\", \"exceptionClass\": \"\", \"trace\": \"\"}}, \"*\")"
      ],
      "text/plain": [
       "<IPython.core.display.Javascript object>"
      ]
     },
     "metadata": {},
     "output_type": "display_data"
    },
    {
     "data": {
      "text/markdown": [
       "<span style=\"color:#33cc33\">Correct:</span> \n",
       "\n",
       "Keep in mind Python includes spaces (and punctuation) when counting string length."
      ],
      "text/plain": [
       "Correct: \n",
       "\n",
       "Keep in mind Python includes spaces (and punctuation) when counting string length."
      ]
     },
     "metadata": {},
     "output_type": "display_data"
    }
   ],
   "source": [
    "b = \"it's ok\"\n",
    "length = len(b)\n",
    "q0.b.check()"
   ]
  },
  {
   "cell_type": "code",
   "execution_count": 4,
   "id": "sorted-mason",
   "metadata": {
    "execution": {
     "iopub.execute_input": "2021-05-15T12:36:22.926127Z",
     "iopub.status.busy": "2021-05-15T12:36:22.925493Z",
     "iopub.status.idle": "2021-05-15T12:36:22.931508Z",
     "shell.execute_reply": "2021-05-15T12:36:22.931931Z"
    },
    "papermill": {
     "duration": 0.020765,
     "end_time": "2021-05-15T12:36:22.932104",
     "exception": false,
     "start_time": "2021-05-15T12:36:22.911339",
     "status": "completed"
    },
    "tags": []
   },
   "outputs": [
    {
     "data": {
      "application/javascript": [
       "parent.postMessage({\"jupyterEvent\": \"custom.exercise_interaction\", \"data\": {\"outcomeType\": 1, \"valueTowardsCompletion\": 0.3333333333333333, \"interactionType\": 1, \"questionType\": 1, \"questionId\": \"0.3_ZC\", \"learnToolsVersion\": \"0.3.4\", \"failureMessage\": \"\", \"exceptionClass\": \"\", \"trace\": \"\"}}, \"*\")"
      ],
      "text/plain": [
       "<IPython.core.display.Javascript object>"
      ]
     },
     "metadata": {},
     "output_type": "display_data"
    },
    {
     "data": {
      "text/markdown": [
       "<span style=\"color:#33cc33\">Correct:</span> \n",
       "\n",
       "Even though we use different syntax to create it, the string `c` is identical to `b`. In particular, note that the backslash is not part of the string, so it doesn't contribute to its length."
      ],
      "text/plain": [
       "Correct: \n",
       "\n",
       "Even though we use different syntax to create it, the string `c` is identical to `b`. In particular, note that the backslash is not part of the string, so it doesn't contribute to its length."
      ]
     },
     "metadata": {},
     "output_type": "display_data"
    }
   ],
   "source": [
    "c = 'it\\'s ok'\n",
    "length = len(c)\n",
    "q0.c.check()"
   ]
  },
  {
   "cell_type": "code",
   "execution_count": 5,
   "id": "comfortable-bench",
   "metadata": {
    "execution": {
     "iopub.execute_input": "2021-05-15T12:36:22.960062Z",
     "iopub.status.busy": "2021-05-15T12:36:22.959452Z",
     "iopub.status.idle": "2021-05-15T12:36:22.965574Z",
     "shell.execute_reply": "2021-05-15T12:36:22.966024Z"
    },
    "papermill": {
     "duration": 0.021625,
     "end_time": "2021-05-15T12:36:22.966208",
     "exception": false,
     "start_time": "2021-05-15T12:36:22.944583",
     "status": "completed"
    },
    "tags": []
   },
   "outputs": [
    {
     "data": {
      "application/javascript": [
       "parent.postMessage({\"jupyterEvent\": \"custom.exercise_interaction\", \"data\": {\"outcomeType\": 1, \"valueTowardsCompletion\": 0.3333333333333333, \"interactionType\": 1, \"questionType\": 1, \"questionId\": \"0.4_ZD\", \"learnToolsVersion\": \"0.3.4\", \"failureMessage\": \"\", \"exceptionClass\": \"\", \"trace\": \"\"}}, \"*\")"
      ],
      "text/plain": [
       "<IPython.core.display.Javascript object>"
      ]
     },
     "metadata": {},
     "output_type": "display_data"
    },
    {
     "data": {
      "text/markdown": [
       "<span style=\"color:#33cc33\">Correct:</span> \n",
       "\n",
       "The fact that this string was created using triple-quote syntax doesn't make any difference in terms of its content or length. This string is exactly the same as `'hey'`."
      ],
      "text/plain": [
       "Correct: \n",
       "\n",
       "The fact that this string was created using triple-quote syntax doesn't make any difference in terms of its content or length. This string is exactly the same as `'hey'`."
      ]
     },
     "metadata": {},
     "output_type": "display_data"
    }
   ],
   "source": [
    "d = \"\"\"hey\"\"\"\n",
    "length = len(d)\n",
    "q0.d.check()"
   ]
  },
  {
   "cell_type": "code",
   "execution_count": 6,
   "id": "mysterious-chess",
   "metadata": {
    "execution": {
     "iopub.execute_input": "2021-05-15T12:36:22.995865Z",
     "iopub.status.busy": "2021-05-15T12:36:22.995225Z",
     "iopub.status.idle": "2021-05-15T12:36:23.000852Z",
     "shell.execute_reply": "2021-05-15T12:36:23.001290Z"
    },
    "papermill": {
     "duration": 0.022075,
     "end_time": "2021-05-15T12:36:23.001471",
     "exception": false,
     "start_time": "2021-05-15T12:36:22.979396",
     "status": "completed"
    },
    "tags": []
   },
   "outputs": [
    {
     "data": {
      "application/javascript": [
       "parent.postMessage({\"jupyterEvent\": \"custom.exercise_interaction\", \"data\": {\"outcomeType\": 1, \"valueTowardsCompletion\": 0.3333333333333333, \"interactionType\": 1, \"questionType\": 1, \"questionId\": \"0.5_ZE\", \"learnToolsVersion\": \"0.3.4\", \"failureMessage\": \"\", \"exceptionClass\": \"\", \"trace\": \"\"}}, \"*\")"
      ],
      "text/plain": [
       "<IPython.core.display.Javascript object>"
      ]
     },
     "metadata": {},
     "output_type": "display_data"
    },
    {
     "data": {
      "text/markdown": [
       "<span style=\"color:#33cc33\">Correct:</span> \n",
       "\n",
       "The newline character is just a single character! (Even though we represent it to Python using a combination of two characters.)"
      ],
      "text/plain": [
       "Correct: \n",
       "\n",
       "The newline character is just a single character! (Even though we represent it to Python using a combination of two characters.)"
      ]
     },
     "metadata": {},
     "output_type": "display_data"
    }
   ],
   "source": [
    "e = '\\n'\n",
    "length = len(e)\n",
    "q0.e.check()"
   ]
  },
  {
   "cell_type": "markdown",
   "id": "flying-illinois",
   "metadata": {
    "papermill": {
     "duration": 0.013552,
     "end_time": "2021-05-15T12:36:23.029018",
     "exception": false,
     "start_time": "2021-05-15T12:36:23.015466",
     "status": "completed"
    },
    "tags": []
   },
   "source": [
    "## 1.\n",
    "\n",
    "There is a saying that \"Data scientists spend 80% of their time cleaning data, and 20% of their time complaining about cleaning data.\" Let's see if you can write a function to help clean US zip code data. Given a string, it should return whether or not that string represents a valid zip code. For our purposes, a valid zip code is any string consisting of exactly 5 digits.\n",
    "\n",
    "HINT: `str` has a method that will be useful here. Use `help(str)` to review a list of string methods."
   ]
  },
  {
   "cell_type": "code",
   "execution_count": 7,
   "id": "alike-range",
   "metadata": {
    "execution": {
     "iopub.execute_input": "2021-05-15T12:36:23.062707Z",
     "iopub.status.busy": "2021-05-15T12:36:23.061986Z",
     "iopub.status.idle": "2021-05-15T12:36:23.066163Z",
     "shell.execute_reply": "2021-05-15T12:36:23.066612Z"
    },
    "papermill": {
     "duration": 0.023405,
     "end_time": "2021-05-15T12:36:23.066793",
     "exception": false,
     "start_time": "2021-05-15T12:36:23.043388",
     "status": "completed"
    },
    "tags": []
   },
   "outputs": [
    {
     "data": {
      "application/javascript": [
       "parent.postMessage({\"jupyterEvent\": \"custom.exercise_interaction\", \"data\": {\"outcomeType\": 1, \"valueTowardsCompletion\": 0.3333333333333333, \"interactionType\": 1, \"questionType\": 2, \"questionId\": \"1_ZipValidator\", \"learnToolsVersion\": \"0.3.4\", \"failureMessage\": \"\", \"exceptionClass\": \"\", \"trace\": \"\"}}, \"*\")"
      ],
      "text/plain": [
       "<IPython.core.display.Javascript object>"
      ]
     },
     "metadata": {},
     "output_type": "display_data"
    },
    {
     "data": {
      "text/markdown": [
       "<span style=\"color:#33cc33\">Correct</span>"
      ],
      "text/plain": [
       "Correct"
      ]
     },
     "metadata": {},
     "output_type": "display_data"
    }
   ],
   "source": [
    "def is_valid_zip(zip_code):\n",
    "    \"\"\"Returns whether the input string is a valid (5 digit) zip code\n",
    "    \"\"\"\n",
    "    return len(zip_code) == 5 and zip_code.isdigit()\n",
    "\n",
    "# Check your answer\n",
    "q1.check()"
   ]
  },
  {
   "cell_type": "code",
   "execution_count": 8,
   "id": "complete-portal",
   "metadata": {
    "execution": {
     "iopub.execute_input": "2021-05-15T12:36:23.099672Z",
     "iopub.status.busy": "2021-05-15T12:36:23.099095Z",
     "iopub.status.idle": "2021-05-15T12:36:23.101964Z",
     "shell.execute_reply": "2021-05-15T12:36:23.102379Z"
    },
    "papermill": {
     "duration": 0.021045,
     "end_time": "2021-05-15T12:36:23.102533",
     "exception": false,
     "start_time": "2021-05-15T12:36:23.081488",
     "status": "completed"
    },
    "tags": []
   },
   "outputs": [],
   "source": [
    "#q1.hint()\n",
    "#q1.solution()"
   ]
  },
  {
   "cell_type": "markdown",
   "id": "unexpected-voluntary",
   "metadata": {
    "papermill": {
     "duration": 0.015178,
     "end_time": "2021-05-15T12:36:23.132444",
     "exception": false,
     "start_time": "2021-05-15T12:36:23.117266",
     "status": "completed"
    },
    "tags": []
   },
   "source": [
    "## 2.\n",
    "\n",
    "A researcher has gathered thousands of news articles. But she wants to focus her attention on articles including a specific word. Complete the function below to help her filter her list of articles.\n",
    "\n",
    "Your function should meet the following criteria:\n",
    "\n",
    "- Do not include documents where the keyword string shows up only as a part of a larger word. For example, if she were looking for the keyword “closed”, you would not include the string “enclosed.” \n",
    "- She does not want you to distinguish upper case from lower case letters. So the phrase “Closed the case.” would be included when the keyword is “closed”\n",
    "- Do not let periods or commas affect what is matched. “It is closed.” would be included when the keyword is “closed”. But you can assume there are no other types of punctuation."
   ]
  },
  {
   "cell_type": "code",
   "execution_count": 9,
   "id": "included-command",
   "metadata": {
    "execution": {
     "iopub.execute_input": "2021-05-15T12:36:23.165769Z",
     "iopub.status.busy": "2021-05-15T12:36:23.165074Z",
     "iopub.status.idle": "2021-05-15T12:36:23.172253Z",
     "shell.execute_reply": "2021-05-15T12:36:23.172706Z"
    },
    "papermill": {
     "duration": 0.025432,
     "end_time": "2021-05-15T12:36:23.172884",
     "exception": false,
     "start_time": "2021-05-15T12:36:23.147452",
     "status": "completed"
    },
    "tags": []
   },
   "outputs": [
    {
     "data": {
      "application/javascript": [
       "parent.postMessage({\"jupyterEvent\": \"custom.exercise_interaction\", \"data\": {\"outcomeType\": 1, \"valueTowardsCompletion\": 0.3333333333333333, \"interactionType\": 1, \"questionType\": 2, \"questionId\": \"2_WordSearch\", \"learnToolsVersion\": \"0.3.4\", \"failureMessage\": \"\", \"exceptionClass\": \"\", \"trace\": \"\"}}, \"*\")"
      ],
      "text/plain": [
       "<IPython.core.display.Javascript object>"
      ]
     },
     "metadata": {},
     "output_type": "display_data"
    },
    {
     "data": {
      "text/markdown": [
       "<span style=\"color:#33cc33\">Correct</span>"
      ],
      "text/plain": [
       "Correct"
      ]
     },
     "metadata": {},
     "output_type": "display_data"
    }
   ],
   "source": [
    "def word_search(doc_list, keyword):\n",
    "    \"\"\"\n",
    "    Takes a list of documents (each document is a string) and a keyword. \n",
    "    Returns list of the index values into the original list for all documents \n",
    "    containing the keyword.\n",
    "\n",
    "    Example:\n",
    "    doc_list = [\"The Learn Python Challenge Casino.\", \"They bought a car\", \"Casinoville\"]\n",
    "    >>> word_search(doc_list, 'casino')\n",
    "    >>> [0]\n",
    "    \"\"\"\n",
    "    results = []\n",
    "    \n",
    "    for index, title in enumerate(doc_list):\n",
    "        words = title.split()\n",
    "        cleaned_words = [word.rstrip(\",.\").lower() for word in words]\n",
    "        \n",
    "        if keyword.lower() in cleaned_words:\n",
    "            results.append(index)\n",
    "                \n",
    "    return results\n",
    "\n",
    "\n",
    "# Check your answer\n",
    "q2.check()"
   ]
  },
  {
   "cell_type": "code",
   "execution_count": 10,
   "id": "latin-portable",
   "metadata": {
    "execution": {
     "iopub.execute_input": "2021-05-15T12:36:23.207241Z",
     "iopub.status.busy": "2021-05-15T12:36:23.206577Z",
     "iopub.status.idle": "2021-05-15T12:36:23.209792Z",
     "shell.execute_reply": "2021-05-15T12:36:23.210196Z"
    },
    "papermill": {
     "duration": 0.02196,
     "end_time": "2021-05-15T12:36:23.210361",
     "exception": false,
     "start_time": "2021-05-15T12:36:23.188401",
     "status": "completed"
    },
    "tags": []
   },
   "outputs": [],
   "source": [
    "#q2.hint()\n",
    "#q2.solution()"
   ]
  },
  {
   "cell_type": "markdown",
   "id": "floppy-lloyd",
   "metadata": {
    "papermill": {
     "duration": 0.015267,
     "end_time": "2021-05-15T12:36:23.241286",
     "exception": false,
     "start_time": "2021-05-15T12:36:23.226019",
     "status": "completed"
    },
    "tags": []
   },
   "source": [
    "## 3.\n",
    "\n",
    "Now the researcher wants to supply multiple keywords to search for. Complete the function below to help her.\n",
    "\n",
    "(You're encouraged to use the `word_search` function you just wrote when implementing this function. Reusing code in this way makes your programs more robust and readable - and it saves typing!)"
   ]
  },
  {
   "cell_type": "code",
   "execution_count": 11,
   "id": "greater-heating",
   "metadata": {
    "execution": {
     "iopub.execute_input": "2021-05-15T12:36:23.275575Z",
     "iopub.status.busy": "2021-05-15T12:36:23.275021Z",
     "iopub.status.idle": "2021-05-15T12:36:23.281523Z",
     "shell.execute_reply": "2021-05-15T12:36:23.282001Z"
    },
    "papermill": {
     "duration": 0.025237,
     "end_time": "2021-05-15T12:36:23.282189",
     "exception": false,
     "start_time": "2021-05-15T12:36:23.256952",
     "status": "completed"
    },
    "tags": []
   },
   "outputs": [
    {
     "data": {
      "application/javascript": [
       "parent.postMessage({\"jupyterEvent\": \"custom.exercise_interaction\", \"data\": {\"outcomeType\": 1, \"valueTowardsCompletion\": 0.3333333333333333, \"interactionType\": 1, \"questionType\": 2, \"questionId\": \"3_MultiWordSearch\", \"learnToolsVersion\": \"0.3.4\", \"failureMessage\": \"\", \"exceptionClass\": \"\", \"trace\": \"\"}}, \"*\")"
      ],
      "text/plain": [
       "<IPython.core.display.Javascript object>"
      ]
     },
     "metadata": {},
     "output_type": "display_data"
    },
    {
     "data": {
      "text/markdown": [
       "<span style=\"color:#33cc33\">Correct</span>"
      ],
      "text/plain": [
       "Correct"
      ]
     },
     "metadata": {},
     "output_type": "display_data"
    }
   ],
   "source": [
    "def multi_word_search(doc_list, keywords):\n",
    "    \"\"\"\n",
    "    Takes list of documents (each document is a string) and a list of keywords.  \n",
    "    Returns a dictionary where each key is a keyword, and the value is a list of indices\n",
    "    (from doc_list) of the documents containing that keyword\n",
    "\n",
    "    >>> doc_list = [\"The Learn Python Challenge Casino.\", \"They bought a car and a casino\", \"Casinoville\"]\n",
    "    >>> keywords = ['casino', 'they']\n",
    "    >>> multi_word_search(doc_list, keywords)\n",
    "    {'casino': [0, 1], 'they': [1]}\n",
    "    \"\"\"\n",
    "    results = {}\n",
    "    \n",
    "    for word in keywords:\n",
    "        results[word] = word_search(doc_list, word)\n",
    "    \n",
    "    return results\n",
    "\n",
    "# Check your answer\n",
    "q3.check()"
   ]
  },
  {
   "cell_type": "code",
   "execution_count": 12,
   "id": "expected-ceremony",
   "metadata": {
    "execution": {
     "iopub.execute_input": "2021-05-15T12:36:23.318523Z",
     "iopub.status.busy": "2021-05-15T12:36:23.317924Z",
     "iopub.status.idle": "2021-05-15T12:36:23.321485Z",
     "shell.execute_reply": "2021-05-15T12:36:23.321976Z"
    },
    "papermill": {
     "duration": 0.02322,
     "end_time": "2021-05-15T12:36:23.322153",
     "exception": false,
     "start_time": "2021-05-15T12:36:23.298933",
     "status": "completed"
    },
    "tags": []
   },
   "outputs": [],
   "source": [
    "#q3.solution()"
   ]
  },
  {
   "cell_type": "markdown",
   "id": "biological-commodity",
   "metadata": {
    "papermill": {
     "duration": 0.016264,
     "end_time": "2021-05-15T12:36:23.355317",
     "exception": false,
     "start_time": "2021-05-15T12:36:23.339053",
     "status": "completed"
    },
    "tags": []
   },
   "source": [
    "# Keep Going\n",
    "\n",
    "You've learned a lot. But even the best programmers rely heavily on \"libraries\" of code from other programmers. You'll learn about that in **[the last lesson](https://www.kaggle.com/colinmorris/working-with-external-libraries)**.\n"
   ]
  },
  {
   "cell_type": "markdown",
   "id": "figured-usage",
   "metadata": {
    "papermill": {
     "duration": 0.016099,
     "end_time": "2021-05-15T12:36:23.387885",
     "exception": false,
     "start_time": "2021-05-15T12:36:23.371786",
     "status": "completed"
    },
    "tags": []
   },
   "source": [
    "---\n",
    "**[Python Home Page](https://www.kaggle.com/learn/python)**\n",
    "\n",
    "\n",
    "\n",
    "\n",
    "\n",
    "*Have questions or comments? Visit the [Learn Discussion forum](https://www.kaggle.com/learn-forum/161283) to chat with other Learners.*"
   ]
  }
 ],
 "metadata": {
  "kernelspec": {
   "display_name": "Python 3",
   "language": "python",
   "name": "python3"
  },
  "language_info": {
   "codemirror_mode": {
    "name": "ipython",
    "version": 3
   },
   "file_extension": ".py",
   "mimetype": "text/x-python",
   "name": "python",
   "nbconvert_exporter": "python",
   "pygments_lexer": "ipython3",
   "version": "3.7.9"
  },
  "papermill": {
   "default_parameters": {},
   "duration": 7.022488,
   "end_time": "2021-05-15T12:36:24.016655",
   "environment_variables": {},
   "exception": null,
   "input_path": "__notebook__.ipynb",
   "output_path": "__notebook__.ipynb",
   "parameters": {},
   "start_time": "2021-05-15T12:36:16.994167",
   "version": "2.3.2"
  }
 },
 "nbformat": 4,
 "nbformat_minor": 5
}
