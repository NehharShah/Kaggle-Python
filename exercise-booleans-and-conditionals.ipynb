{
 "cells": [
  {
   "cell_type": "markdown",
   "id": "attended-concentrate",
   "metadata": {
    "papermill": {
     "duration": 0.019961,
     "end_time": "2021-05-13T11:47:22.467869",
     "exception": false,
     "start_time": "2021-05-13T11:47:22.447908",
     "status": "completed"
    },
    "tags": []
   },
   "source": [
    "**This notebook is an exercise in the [Python](https://www.kaggle.com/learn/python) course.  You can reference the tutorial at [this link](https://www.kaggle.com/colinmorris/booleans-and-conditionals).**\n",
    "\n",
    "---\n"
   ]
  },
  {
   "cell_type": "markdown",
   "id": "iraqi-bristol",
   "metadata": {
    "papermill": {
     "duration": 0.018483,
     "end_time": "2021-05-13T11:47:22.505057",
     "exception": false,
     "start_time": "2021-05-13T11:47:22.486574",
     "status": "completed"
    },
    "tags": []
   },
   "source": [
    "# Try It Yourself\n",
    "\n",
    "Think you are ready to use Booleans and Conditionals? Try it yourself and find out.\n",
    "\n",
    "To get started, **run the setup code below** before writing your own code (and if you leave this notebook and come back later, don't forget to run the setup code again)."
   ]
  },
  {
   "cell_type": "code",
   "execution_count": 1,
   "id": "selective-small",
   "metadata": {
    "execution": {
     "iopub.execute_input": "2021-05-13T11:47:22.546320Z",
     "iopub.status.busy": "2021-05-13T11:47:22.545311Z",
     "iopub.status.idle": "2021-05-13T11:47:22.613367Z",
     "shell.execute_reply": "2021-05-13T11:47:22.612761Z"
    },
    "papermill": {
     "duration": 0.089627,
     "end_time": "2021-05-13T11:47:22.613517",
     "exception": false,
     "start_time": "2021-05-13T11:47:22.523890",
     "status": "completed"
    },
    "tags": []
   },
   "outputs": [
    {
     "name": "stdout",
     "output_type": "stream",
     "text": [
      "Setup complete.\n"
     ]
    }
   ],
   "source": [
    "from learntools.core import binder; binder.bind(globals())\n",
    "from learntools.python.ex3 import *\n",
    "print('Setup complete.')"
   ]
  },
  {
   "cell_type": "markdown",
   "id": "explicit-george",
   "metadata": {
    "papermill": {
     "duration": 0.01882,
     "end_time": "2021-05-13T11:47:22.653193",
     "exception": false,
     "start_time": "2021-05-13T11:47:22.634373",
     "status": "completed"
    },
    "tags": []
   },
   "source": [
    "# Exercises"
   ]
  },
  {
   "cell_type": "markdown",
   "id": "solid-honduras",
   "metadata": {
    "papermill": {
     "duration": 0.018831,
     "end_time": "2021-05-13T11:47:22.691157",
     "exception": false,
     "start_time": "2021-05-13T11:47:22.672326",
     "status": "completed"
    },
    "tags": []
   },
   "source": [
    "## 1.\n",
    "\n",
    "Many programming languages have [`sign`](https://en.wikipedia.org/wiki/Sign_function) available as a built-in function. Python doesn't, but we can define our own!\n",
    "\n",
    "In the cell below, define a function called `sign` which takes a numerical argument and returns -1 if it's negative, 1 if it's positive, and 0 if it's 0."
   ]
  },
  {
   "cell_type": "code",
   "execution_count": 2,
   "id": "buried-juice",
   "metadata": {
    "execution": {
     "iopub.execute_input": "2021-05-13T11:47:22.737251Z",
     "iopub.status.busy": "2021-05-13T11:47:22.736578Z",
     "iopub.status.idle": "2021-05-13T11:47:22.741787Z",
     "shell.execute_reply": "2021-05-13T11:47:22.741239Z"
    },
    "papermill": {
     "duration": 0.031665,
     "end_time": "2021-05-13T11:47:22.741918",
     "exception": false,
     "start_time": "2021-05-13T11:47:22.710253",
     "status": "completed"
    },
    "tags": []
   },
   "outputs": [
    {
     "data": {
      "application/javascript": [
       "parent.postMessage({\"jupyterEvent\": \"custom.exercise_interaction\", \"data\": {\"outcomeType\": 1, \"valueTowardsCompletion\": 0.2, \"interactionType\": 1, \"questionType\": 2, \"questionId\": \"1_SignFunctionProblem\", \"learnToolsVersion\": \"0.3.4\", \"failureMessage\": \"\", \"exceptionClass\": \"\", \"trace\": \"\"}}, \"*\")"
      ],
      "text/plain": [
       "<IPython.core.display.Javascript object>"
      ]
     },
     "metadata": {},
     "output_type": "display_data"
    },
    {
     "data": {
      "text/markdown": [
       "<span style=\"color:#33cc33\">Correct</span>"
      ],
      "text/plain": [
       "Correct"
      ]
     },
     "metadata": {},
     "output_type": "display_data"
    }
   ],
   "source": [
    "# Your code goes here. Define a function called 'sign'\n",
    "def sign(x):\n",
    "    if x > 0:\n",
    "        return 1\n",
    "    elif x < 0:\n",
    "        return -1\n",
    "    else:\n",
    "        return 0\n",
    "    \n",
    "\n",
    "# Check your answer\n",
    "q1.check()"
   ]
  },
  {
   "cell_type": "code",
   "execution_count": 3,
   "id": "level-involvement",
   "metadata": {
    "execution": {
     "iopub.execute_input": "2021-05-13T11:47:22.784980Z",
     "iopub.status.busy": "2021-05-13T11:47:22.784402Z",
     "iopub.status.idle": "2021-05-13T11:47:22.787706Z",
     "shell.execute_reply": "2021-05-13T11:47:22.788246Z"
    },
    "papermill": {
     "duration": 0.026402,
     "end_time": "2021-05-13T11:47:22.788421",
     "exception": false,
     "start_time": "2021-05-13T11:47:22.762019",
     "status": "completed"
    },
    "tags": []
   },
   "outputs": [],
   "source": [
    "#q1.solution()"
   ]
  },
  {
   "cell_type": "markdown",
   "id": "opponent-portland",
   "metadata": {
    "papermill": {
     "duration": 0.019863,
     "end_time": "2021-05-13T11:47:22.828268",
     "exception": false,
     "start_time": "2021-05-13T11:47:22.808405",
     "status": "completed"
    },
    "tags": []
   },
   "source": [
    "## 2.\n",
    "\n",
    "We've decided to add \"logging\" to our `to_smash` function from the previous exercise."
   ]
  },
  {
   "cell_type": "code",
   "execution_count": 4,
   "id": "noble-moldova",
   "metadata": {
    "execution": {
     "iopub.execute_input": "2021-05-13T11:47:22.871495Z",
     "iopub.status.busy": "2021-05-13T11:47:22.870891Z",
     "iopub.status.idle": "2021-05-13T11:47:22.877444Z",
     "shell.execute_reply": "2021-05-13T11:47:22.877843Z"
    },
    "papermill": {
     "duration": 0.029692,
     "end_time": "2021-05-13T11:47:22.878068",
     "exception": false,
     "start_time": "2021-05-13T11:47:22.848376",
     "status": "completed"
    },
    "tags": []
   },
   "outputs": [
    {
     "name": "stdout",
     "output_type": "stream",
     "text": [
      "Splitting 91 candies\n"
     ]
    },
    {
     "data": {
      "text/plain": [
       "1"
      ]
     },
     "execution_count": 4,
     "metadata": {},
     "output_type": "execute_result"
    }
   ],
   "source": [
    "def to_smash(total_candies):\n",
    "    \"\"\"Return the number of leftover candies that must be smashed after distributing\n",
    "    the given number of candies evenly between 3 friends.\n",
    "    \n",
    "    >>> to_smash(91)\n",
    "    1\n",
    "    \"\"\"\n",
    "    print(\"Splitting\", total_candies, \"candies\")\n",
    "    return total_candies % 3\n",
    "\n",
    "to_smash(91)"
   ]
  },
  {
   "cell_type": "markdown",
   "id": "accurate-sugar",
   "metadata": {
    "papermill": {
     "duration": 0.020317,
     "end_time": "2021-05-13T11:47:22.918849",
     "exception": false,
     "start_time": "2021-05-13T11:47:22.898532",
     "status": "completed"
    },
    "tags": []
   },
   "source": [
    "What happens if we call it with `total_candies = 1`?"
   ]
  },
  {
   "cell_type": "code",
   "execution_count": 5,
   "id": "dutch-yorkshire",
   "metadata": {
    "execution": {
     "iopub.execute_input": "2021-05-13T11:47:22.962978Z",
     "iopub.status.busy": "2021-05-13T11:47:22.962291Z",
     "iopub.status.idle": "2021-05-13T11:47:22.969762Z",
     "shell.execute_reply": "2021-05-13T11:47:22.969184Z"
    },
    "papermill": {
     "duration": 0.030683,
     "end_time": "2021-05-13T11:47:22.969895",
     "exception": false,
     "start_time": "2021-05-13T11:47:22.939212",
     "status": "completed"
    },
    "tags": []
   },
   "outputs": [
    {
     "name": "stdout",
     "output_type": "stream",
     "text": [
      "Splitting 1 candies\n"
     ]
    },
    {
     "data": {
      "text/plain": [
       "1"
      ]
     },
     "execution_count": 5,
     "metadata": {},
     "output_type": "execute_result"
    }
   ],
   "source": [
    "to_smash(1)"
   ]
  },
  {
   "cell_type": "markdown",
   "id": "challenging-german",
   "metadata": {
    "papermill": {
     "duration": 0.021107,
     "end_time": "2021-05-13T11:47:23.012099",
     "exception": false,
     "start_time": "2021-05-13T11:47:22.990992",
     "status": "completed"
    },
    "tags": []
   },
   "source": [
    "That isn't great grammar!\n",
    "\n",
    "Modify the definition in the cell below to correct the grammar of our print statement. (If there's only one candy, we should use the singular \"candy\" instead of the plural \"candies\")"
   ]
  },
  {
   "cell_type": "code",
   "execution_count": 6,
   "id": "persistent-salmon",
   "metadata": {
    "execution": {
     "iopub.execute_input": "2021-05-13T11:47:23.060318Z",
     "iopub.status.busy": "2021-05-13T11:47:23.059507Z",
     "iopub.status.idle": "2021-05-13T11:47:23.065288Z",
     "shell.execute_reply": "2021-05-13T11:47:23.064752Z"
    },
    "papermill": {
     "duration": 0.032284,
     "end_time": "2021-05-13T11:47:23.065417",
     "exception": false,
     "start_time": "2021-05-13T11:47:23.033133",
     "status": "completed"
    },
    "tags": []
   },
   "outputs": [
    {
     "name": "stdout",
     "output_type": "stream",
     "text": [
      "Splitting 91 candies\n",
      "Splitting 1 candies\n"
     ]
    },
    {
     "data": {
      "text/plain": [
       "1"
      ]
     },
     "execution_count": 6,
     "metadata": {},
     "output_type": "execute_result"
    }
   ],
   "source": [
    "def to_smash(total_candies):\n",
    "    \"\"\"Return the number of leftover candies that must be smashed after distributing\n",
    "    the given number of candies evenly between 3 friends.\n",
    "    \n",
    "    >>> to_smash(91)\n",
    "    1\n",
    "    \"\"\"\n",
    "    print(\"Splitting\", total_candies, \"candies\")\n",
    "    return total_candies % 3\n",
    "\n",
    "to_smash(91)\n",
    "to_smash(1)"
   ]
  },
  {
   "cell_type": "code",
   "execution_count": 7,
   "id": "accompanied-opposition",
   "metadata": {
    "execution": {
     "iopub.execute_input": "2021-05-13T11:47:23.113892Z",
     "iopub.status.busy": "2021-05-13T11:47:23.113081Z",
     "iopub.status.idle": "2021-05-13T11:47:23.119357Z",
     "shell.execute_reply": "2021-05-13T11:47:23.118771Z"
    },
    "papermill": {
     "duration": 0.031996,
     "end_time": "2021-05-13T11:47:23.119491",
     "exception": false,
     "start_time": "2021-05-13T11:47:23.087495",
     "status": "completed"
    },
    "tags": []
   },
   "outputs": [
    {
     "data": {
      "application/javascript": [
       "parent.postMessage({\"jupyterEvent\": \"custom.exercise_interaction\", \"data\": {\"interactionType\": 3, \"questionType\": 4, \"questionId\": \"2_PluralizationProblem\", \"learnToolsVersion\": \"0.3.4\", \"valueTowardsCompletion\": 0.0, \"failureMessage\": \"\", \"exceptionClass\": \"\", \"trace\": \"\", \"outcomeType\": 4}}, \"*\")"
      ],
      "text/plain": [
       "<IPython.core.display.Javascript object>"
      ]
     },
     "metadata": {},
     "output_type": "display_data"
    },
    {
     "data": {
      "text/markdown": [
       "<span style=\"color:#33cc99\">Solution:</span> A straightforward (and totally fine) solution is to replace the original `print` call with:\n",
       "\n",
       "```python\n",
       "if total_candies == 1:\n",
       "    print(\"Splitting 1 candy\")\n",
       "else:\n",
       "    print(\"Splitting\", total_candies, \"candies\")\n",
       "```\n",
       "\n",
       "Here's a slightly more succinct solution using a conditional expression:\n",
       "\n",
       "```python\n",
       "print(\"Splitting\", total_candies, \"candy\" if total_candies == 1 else \"candies\")\n",
       "```"
      ],
      "text/plain": [
       "Solution: A straightforward (and totally fine) solution is to replace the original `print` call with:\n",
       "\n",
       "```python\n",
       "if total_candies == 1:\n",
       "    print(\"Splitting 1 candy\")\n",
       "else:\n",
       "    print(\"Splitting\", total_candies, \"candies\")\n",
       "```\n",
       "\n",
       "Here's a slightly more succinct solution using a conditional expression:\n",
       "\n",
       "```python\n",
       "print(\"Splitting\", total_candies, \"candy\" if total_candies == 1 else \"candies\")\n",
       "```"
      ]
     },
     "metadata": {},
     "output_type": "display_data"
    }
   ],
   "source": [
    "# Check your answer (Run this code cell to receive credit!)\n",
    "q2.solution()"
   ]
  },
  {
   "cell_type": "markdown",
   "id": "listed-entertainment",
   "metadata": {
    "papermill": {
     "duration": 0.022571,
     "end_time": "2021-05-13T11:47:23.165045",
     "exception": false,
     "start_time": "2021-05-13T11:47:23.142474",
     "status": "completed"
    },
    "tags": []
   },
   "source": [
    "## 3. <span title=\"A bit spicy\" style=\"color: darkgreen \">🌶️</span>\n",
    "\n",
    "In the main lesson we talked about deciding whether we're prepared for the weather. I said that I'm safe from today's weather if...\n",
    "- I have an umbrella...\n",
    "- or if the rain isn't too heavy and I have a hood...\n",
    "- otherwise, I'm still fine unless it's raining *and* it's a workday\n",
    "\n",
    "The function below uses our first attempt at turning this logic into a Python expression. I claimed that there was a bug in that code. Can you find it?\n",
    "\n",
    "To prove that `prepared_for_weather` is buggy, come up with a set of inputs where either:\n",
    "- the function returns `False` (but should have returned `True`), or\n",
    "- the function returned `True` (but should have returned `False`).\n",
    "\n",
    "To get credit for completing this question, your code should return a <font color='#33cc33'>Correct</font> result."
   ]
  },
  {
   "cell_type": "code",
   "execution_count": 8,
   "id": "indie-playlist",
   "metadata": {
    "execution": {
     "iopub.execute_input": "2021-05-13T11:47:23.217834Z",
     "iopub.status.busy": "2021-05-13T11:47:23.216852Z",
     "iopub.status.idle": "2021-05-13T11:47:23.223773Z",
     "shell.execute_reply": "2021-05-13T11:47:23.223253Z"
    },
    "papermill": {
     "duration": 0.035904,
     "end_time": "2021-05-13T11:47:23.223906",
     "exception": false,
     "start_time": "2021-05-13T11:47:23.188002",
     "status": "completed"
    },
    "tags": []
   },
   "outputs": [
    {
     "name": "stdout",
     "output_type": "stream",
     "text": [
      "False\n"
     ]
    },
    {
     "data": {
      "application/javascript": [
       "parent.postMessage({\"jupyterEvent\": \"custom.exercise_interaction\", \"data\": {\"outcomeType\": 1, \"valueTowardsCompletion\": 0.2, \"interactionType\": 1, \"questionType\": 1, \"questionId\": \"3_WeatherDebug\", \"learnToolsVersion\": \"0.3.4\", \"failureMessage\": \"\", \"exceptionClass\": \"\", \"trace\": \"\"}}, \"*\")"
      ],
      "text/plain": [
       "<IPython.core.display.Javascript object>"
      ]
     },
     "metadata": {},
     "output_type": "display_data"
    },
    {
     "data": {
      "text/markdown": [
       "<span style=\"color:#33cc33\">Correct:</span> \n",
       "\n",
       "One example of a failing test case is:\n",
       "\n",
       "```python\n",
       "have_umbrella = False\n",
       "rain_level = 0.0\n",
       "have_hood = False\n",
       "is_workday = False\n",
       "```\n",
       "\n",
       "Clearly we're prepared for the weather in this case. It's not raining. Not only that, it's not a workday, so we don't even need to leave the house! But our function will return False on these inputs.\n",
       "\n",
       "The key problem is that Python implictly parenthesizes the last part as:\n",
       "\n",
       "```python\n",
       "(not (rain_level > 0)) and is_workday\n",
       "```\n",
       "\n",
       "Whereas what we were trying to express would look more like:\n",
       "\n",
       "```python\n",
       "not (rain_level > 0 and is_workday)\n",
       "```\n"
      ],
      "text/plain": [
       "Correct: \n",
       "\n",
       "One example of a failing test case is:\n",
       "\n",
       "```python\n",
       "have_umbrella = False\n",
       "rain_level = 0.0\n",
       "have_hood = False\n",
       "is_workday = False\n",
       "```\n",
       "\n",
       "Clearly we're prepared for the weather in this case. It's not raining. Not only that, it's not a workday, so we don't even need to leave the house! But our function will return False on these inputs.\n",
       "\n",
       "The key problem is that Python implictly parenthesizes the last part as:\n",
       "\n",
       "```python\n",
       "(not (rain_level > 0)) and is_workday\n",
       "```\n",
       "\n",
       "Whereas what we were trying to express would look more like:\n",
       "\n",
       "```python\n",
       "not (rain_level > 0 and is_workday)\n",
       "```"
      ]
     },
     "metadata": {},
     "output_type": "display_data"
    }
   ],
   "source": [
    "def prepared_for_weather(have_umbrella, rain_level, have_hood, is_workday):\n",
    "    # Don't change this code. Our goal is just to find the bug, not fix it!\n",
    "    return have_umbrella or rain_level < 5 and have_hood or not rain_level > 0 and is_workday\n",
    "\n",
    "# Change the values of these inputs so they represent a case where prepared_for_weather\n",
    "# returns the wrong answer.\n",
    "have_umbrella = False\n",
    "rain_level = 0.0\n",
    "have_hood = False\n",
    "is_workday = False\n",
    "\n",
    "# Check what the function returns given the current values of the variables above\n",
    "actual = prepared_for_weather(have_umbrella, rain_level, have_hood, is_workday)\n",
    "print(actual)\n",
    "\n",
    "# Check your answer\n",
    "q3.check()"
   ]
  },
  {
   "cell_type": "code",
   "execution_count": 9,
   "id": "fallen-frederick",
   "metadata": {
    "execution": {
     "iopub.execute_input": "2021-05-13T11:47:23.276411Z",
     "iopub.status.busy": "2021-05-13T11:47:23.275517Z",
     "iopub.status.idle": "2021-05-13T11:47:23.278993Z",
     "shell.execute_reply": "2021-05-13T11:47:23.278497Z"
    },
    "papermill": {
     "duration": 0.03102,
     "end_time": "2021-05-13T11:47:23.279134",
     "exception": false,
     "start_time": "2021-05-13T11:47:23.248114",
     "status": "completed"
    },
    "tags": []
   },
   "outputs": [],
   "source": [
    "#q3.hint()\n",
    "#q3.solution()"
   ]
  },
  {
   "cell_type": "markdown",
   "id": "proved-herald",
   "metadata": {
    "papermill": {
     "duration": 0.023209,
     "end_time": "2021-05-13T11:47:23.326091",
     "exception": false,
     "start_time": "2021-05-13T11:47:23.302882",
     "status": "completed"
    },
    "tags": []
   },
   "source": [
    "## 4.\n",
    "\n",
    "The function `is_negative` below is implemented correctly - it returns True if the given number is negative and False otherwise.\n",
    "\n",
    "However, it's more verbose than it needs to be. We can actually reduce the number of lines of code in this function by *75%* while keeping the same behaviour. \n",
    "\n",
    "See if you can come up with an equivalent body that uses just **one line** of code, and put it in the function `concise_is_negative`. (HINT: you don't even need Python's ternary syntax)"
   ]
  },
  {
   "cell_type": "code",
   "execution_count": 10,
   "id": "authentic-wyoming",
   "metadata": {
    "execution": {
     "iopub.execute_input": "2021-05-13T11:47:23.378845Z",
     "iopub.status.busy": "2021-05-13T11:47:23.378087Z",
     "iopub.status.idle": "2021-05-13T11:47:23.383570Z",
     "shell.execute_reply": "2021-05-13T11:47:23.382851Z"
    },
    "papermill": {
     "duration": 0.034198,
     "end_time": "2021-05-13T11:47:23.383728",
     "exception": false,
     "start_time": "2021-05-13T11:47:23.349530",
     "status": "completed"
    },
    "tags": []
   },
   "outputs": [
    {
     "data": {
      "application/javascript": [
       "parent.postMessage({\"jupyterEvent\": \"custom.exercise_interaction\", \"data\": {\"outcomeType\": 1, \"valueTowardsCompletion\": 0.2, \"interactionType\": 1, \"questionType\": 2, \"questionId\": \"4_ConciseIsNegative\", \"learnToolsVersion\": \"0.3.4\", \"failureMessage\": \"\", \"exceptionClass\": \"\", \"trace\": \"\"}}, \"*\")"
      ],
      "text/plain": [
       "<IPython.core.display.Javascript object>"
      ]
     },
     "metadata": {},
     "output_type": "display_data"
    },
    {
     "data": {
      "text/markdown": [
       "<span style=\"color:#33cc33\">Correct</span>"
      ],
      "text/plain": [
       "Correct"
      ]
     },
     "metadata": {},
     "output_type": "display_data"
    }
   ],
   "source": [
    "def is_negative(number):\n",
    "    if number < 0:\n",
    "        return True\n",
    "    else:\n",
    "        return False\n",
    "\n",
    "def concise_is_negative(number):\n",
    "    \n",
    "    return number < 0 # Your code goes here (try to keep it to one line!)\n",
    "\n",
    "# Check your answer\n",
    "q4.check()"
   ]
  },
  {
   "cell_type": "code",
   "execution_count": 11,
   "id": "female-moscow",
   "metadata": {
    "execution": {
     "iopub.execute_input": "2021-05-13T11:47:23.436860Z",
     "iopub.status.busy": "2021-05-13T11:47:23.436304Z",
     "iopub.status.idle": "2021-05-13T11:47:23.438933Z",
     "shell.execute_reply": "2021-05-13T11:47:23.439365Z"
    },
    "papermill": {
     "duration": 0.031354,
     "end_time": "2021-05-13T11:47:23.439532",
     "exception": false,
     "start_time": "2021-05-13T11:47:23.408178",
     "status": "completed"
    },
    "tags": []
   },
   "outputs": [],
   "source": [
    "#q4.hint()\n",
    "#q4.solution()"
   ]
  },
  {
   "cell_type": "markdown",
   "id": "bottom-traffic",
   "metadata": {
    "papermill": {
     "duration": 0.024373,
     "end_time": "2021-05-13T11:47:23.489051",
     "exception": false,
     "start_time": "2021-05-13T11:47:23.464678",
     "status": "completed"
    },
    "tags": []
   },
   "source": [
    "## 5.\n",
    "\n",
    "The boolean variables `ketchup`, `mustard` and `onion` represent whether a customer wants a particular topping on their hot dog. We want to implement a number of boolean functions that correspond to some yes-or-no questions about the customer's order. For example:"
   ]
  },
  {
   "cell_type": "code",
   "execution_count": 12,
   "id": "departmental-drain",
   "metadata": {
    "execution": {
     "iopub.execute_input": "2021-05-13T11:47:23.559370Z",
     "iopub.status.busy": "2021-05-13T11:47:23.557712Z",
     "iopub.status.idle": "2021-05-13T11:47:23.563675Z",
     "shell.execute_reply": "2021-05-13T11:47:23.563201Z"
    },
    "papermill": {
     "duration": 0.0431,
     "end_time": "2021-05-13T11:47:23.563827",
     "exception": false,
     "start_time": "2021-05-13T11:47:23.520727",
     "status": "completed"
    },
    "tags": []
   },
   "outputs": [],
   "source": [
    "def onionless(ketchup, mustard, onion):\n",
    "    \"\"\"Return whether the customer doesn't want onions.\n",
    "    \"\"\"\n",
    "    \n",
    "    return not onion"
   ]
  },
  {
   "cell_type": "markdown",
   "id": "sophisticated-synthesis",
   "metadata": {
    "papermill": {
     "duration": 0.026085,
     "end_time": "2021-05-13T11:47:23.616554",
     "exception": false,
     "start_time": "2021-05-13T11:47:23.590469",
     "status": "completed"
    },
    "tags": []
   },
   "source": [
    "For each of the remaining functions, fill in the body to match the English description in the docstring. "
   ]
  },
  {
   "cell_type": "code",
   "execution_count": 13,
   "id": "lined-bradley",
   "metadata": {
    "execution": {
     "iopub.execute_input": "2021-05-13T11:47:23.682437Z",
     "iopub.status.busy": "2021-05-13T11:47:23.681778Z",
     "iopub.status.idle": "2021-05-13T11:47:23.687957Z",
     "shell.execute_reply": "2021-05-13T11:47:23.687287Z"
    },
    "papermill": {
     "duration": 0.043857,
     "end_time": "2021-05-13T11:47:23.688180",
     "exception": false,
     "start_time": "2021-05-13T11:47:23.644323",
     "status": "completed"
    },
    "tags": []
   },
   "outputs": [
    {
     "data": {
      "application/javascript": [
       "parent.postMessage({\"jupyterEvent\": \"custom.exercise_interaction\", \"data\": {\"outcomeType\": 1, \"valueTowardsCompletion\": 0.2, \"interactionType\": 1, \"questionType\": 2, \"questionId\": \"5.1_AllToppings\", \"learnToolsVersion\": \"0.3.4\", \"failureMessage\": \"\", \"exceptionClass\": \"\", \"trace\": \"\"}}, \"*\")"
      ],
      "text/plain": [
       "<IPython.core.display.Javascript object>"
      ]
     },
     "metadata": {},
     "output_type": "display_data"
    },
    {
     "data": {
      "text/markdown": [
       "<span style=\"color:#33cc33\">Correct</span>"
      ],
      "text/plain": [
       "Correct"
      ]
     },
     "metadata": {},
     "output_type": "display_data"
    }
   ],
   "source": [
    "def wants_all_toppings(ketchup, mustard, onion):\n",
    "    \"\"\"Return whether the customer wants \"the works\" (all 3 toppings)\n",
    "    \"\"\"\n",
    "    return ketchup and mustard and onion\n",
    "\n",
    "# Check your answer\n",
    "q5.a.check()"
   ]
  },
  {
   "cell_type": "code",
   "execution_count": 14,
   "id": "neutral-norway",
   "metadata": {
    "execution": {
     "iopub.execute_input": "2021-05-13T11:47:23.745659Z",
     "iopub.status.busy": "2021-05-13T11:47:23.745059Z",
     "iopub.status.idle": "2021-05-13T11:47:23.747827Z",
     "shell.execute_reply": "2021-05-13T11:47:23.747342Z"
    },
    "papermill": {
     "duration": 0.033123,
     "end_time": "2021-05-13T11:47:23.747968",
     "exception": false,
     "start_time": "2021-05-13T11:47:23.714845",
     "status": "completed"
    },
    "tags": []
   },
   "outputs": [],
   "source": [
    "#q5.a.hint()\n",
    "#q5.a.solution()"
   ]
  },
  {
   "cell_type": "code",
   "execution_count": 15,
   "id": "curious-maker",
   "metadata": {
    "execution": {
     "iopub.execute_input": "2021-05-13T11:47:23.809944Z",
     "iopub.status.busy": "2021-05-13T11:47:23.809042Z",
     "iopub.status.idle": "2021-05-13T11:47:23.815718Z",
     "shell.execute_reply": "2021-05-13T11:47:23.815248Z"
    },
    "papermill": {
     "duration": 0.041106,
     "end_time": "2021-05-13T11:47:23.815848",
     "exception": false,
     "start_time": "2021-05-13T11:47:23.774742",
     "status": "completed"
    },
    "tags": []
   },
   "outputs": [
    {
     "data": {
      "application/javascript": [
       "parent.postMessage({\"jupyterEvent\": \"custom.exercise_interaction\", \"data\": {\"outcomeType\": 1, \"valueTowardsCompletion\": 0.2, \"interactionType\": 1, \"questionType\": 2, \"questionId\": \"5.2_PlainDog\", \"learnToolsVersion\": \"0.3.4\", \"failureMessage\": \"\", \"exceptionClass\": \"\", \"trace\": \"\"}}, \"*\")"
      ],
      "text/plain": [
       "<IPython.core.display.Javascript object>"
      ]
     },
     "metadata": {},
     "output_type": "display_data"
    },
    {
     "data": {
      "text/markdown": [
       "<span style=\"color:#33cc33\">Correct:</span> \n",
       "\n",
       "One solution looks like:\n",
       "```python\n",
       "return not ketchup and not mustard and not onion\n",
       "```\n",
       "\n",
       "We can also [\"factor out\" the nots](https://en.wikipedia.org/wiki/De_Morgan%27s_laws) to get:\n",
       "\n",
       "```python\n",
       "return not (ketchup or mustard or onion)\n",
       "```"
      ],
      "text/plain": [
       "Correct: \n",
       "\n",
       "One solution looks like:\n",
       "```python\n",
       "return not ketchup and not mustard and not onion\n",
       "```\n",
       "\n",
       "We can also [\"factor out\" the nots](https://en.wikipedia.org/wiki/De_Morgan%27s_laws) to get:\n",
       "\n",
       "```python\n",
       "return not (ketchup or mustard or onion)\n",
       "```"
      ]
     },
     "metadata": {},
     "output_type": "display_data"
    }
   ],
   "source": [
    "def wants_plain_hotdog(ketchup, mustard, onion):\n",
    "    \"\"\"Return whether the customer wants a plain hot dog with no toppings.\n",
    "    \"\"\"\n",
    "    return not ketchup and not mustard and not onion\n",
    "\n",
    "# Check your answer\n",
    "q5.b.check()"
   ]
  },
  {
   "cell_type": "code",
   "execution_count": 16,
   "id": "excessive-tuition",
   "metadata": {
    "execution": {
     "iopub.execute_input": "2021-05-13T11:47:23.876277Z",
     "iopub.status.busy": "2021-05-13T11:47:23.875442Z",
     "iopub.status.idle": "2021-05-13T11:47:23.879086Z",
     "shell.execute_reply": "2021-05-13T11:47:23.878588Z"
    },
    "papermill": {
     "duration": 0.035614,
     "end_time": "2021-05-13T11:47:23.879224",
     "exception": false,
     "start_time": "2021-05-13T11:47:23.843610",
     "status": "completed"
    },
    "tags": []
   },
   "outputs": [],
   "source": [
    "#q5.b.hint()\n",
    "#q5.b.solution()"
   ]
  },
  {
   "cell_type": "code",
   "execution_count": 17,
   "id": "lonely-overview",
   "metadata": {
    "execution": {
     "iopub.execute_input": "2021-05-13T11:47:23.945450Z",
     "iopub.status.busy": "2021-05-13T11:47:23.944586Z",
     "iopub.status.idle": "2021-05-13T11:47:23.951004Z",
     "shell.execute_reply": "2021-05-13T11:47:23.950397Z"
    },
    "papermill": {
     "duration": 0.038563,
     "end_time": "2021-05-13T11:47:23.951145",
     "exception": false,
     "start_time": "2021-05-13T11:47:23.912582",
     "status": "completed"
    },
    "tags": []
   },
   "outputs": [
    {
     "data": {
      "application/javascript": [
       "parent.postMessage({\"jupyterEvent\": \"custom.exercise_interaction\", \"data\": {\"outcomeType\": 1, \"valueTowardsCompletion\": 0.2, \"interactionType\": 1, \"questionType\": 2, \"questionId\": \"5.3_OneSauce\", \"learnToolsVersion\": \"0.3.4\", \"failureMessage\": \"\", \"exceptionClass\": \"\", \"trace\": \"\"}}, \"*\")"
      ],
      "text/plain": [
       "<IPython.core.display.Javascript object>"
      ]
     },
     "metadata": {},
     "output_type": "display_data"
    },
    {
     "data": {
      "text/markdown": [
       "<span style=\"color:#33cc33\">Correct</span>"
      ],
      "text/plain": [
       "Correct"
      ]
     },
     "metadata": {},
     "output_type": "display_data"
    }
   ],
   "source": [
    "def exactly_one_sauce(ketchup, mustard, onion):\n",
    "    \"\"\"Return whether the customer wants either ketchup or mustard, but not both.\n",
    "    (You may be familiar with this operation under the name \"exclusive or\")\n",
    "    \"\"\"\n",
    "    return (ketchup and not mustard) or (mustard and not ketchup)\n",
    "\n",
    "# Check your answer\n",
    "q5.c.check()"
   ]
  },
  {
   "cell_type": "code",
   "execution_count": 18,
   "id": "earned-validation",
   "metadata": {
    "execution": {
     "iopub.execute_input": "2021-05-13T11:47:24.016288Z",
     "iopub.status.busy": "2021-05-13T11:47:24.015632Z",
     "iopub.status.idle": "2021-05-13T11:47:24.018684Z",
     "shell.execute_reply": "2021-05-13T11:47:24.019497Z"
    },
    "papermill": {
     "duration": 0.039961,
     "end_time": "2021-05-13T11:47:24.019759",
     "exception": false,
     "start_time": "2021-05-13T11:47:23.979798",
     "status": "completed"
    },
    "tags": []
   },
   "outputs": [],
   "source": [
    "#q5.c.hint()\n",
    "#q5.c.solution()"
   ]
  },
  {
   "cell_type": "markdown",
   "id": "handy-islam",
   "metadata": {
    "papermill": {
     "duration": 0.034468,
     "end_time": "2021-05-13T11:47:24.095247",
     "exception": false,
     "start_time": "2021-05-13T11:47:24.060779",
     "status": "completed"
    },
    "tags": []
   },
   "source": [
    "## 6. <span title=\"A bit spicy\" style=\"color: darkgreen \">🌶️</span>\n",
    "\n",
    "We’ve seen that calling `bool()` on an integer returns `False` if it’s equal to 0 and `True` otherwise. What happens if we call `int()` on a bool? Try it out in the notebook cell below.\n",
    "\n",
    "Can you take advantage of this to write a succinct function that corresponds to the English sentence \"does the customer want exactly one topping?\"?"
   ]
  },
  {
   "cell_type": "code",
   "execution_count": 19,
   "id": "sonic-worst",
   "metadata": {
    "execution": {
     "iopub.execute_input": "2021-05-13T11:47:24.159838Z",
     "iopub.status.busy": "2021-05-13T11:47:24.158948Z",
     "iopub.status.idle": "2021-05-13T11:47:24.165165Z",
     "shell.execute_reply": "2021-05-13T11:47:24.164560Z"
    },
    "papermill": {
     "duration": 0.040147,
     "end_time": "2021-05-13T11:47:24.165314",
     "exception": false,
     "start_time": "2021-05-13T11:47:24.125167",
     "status": "completed"
    },
    "tags": []
   },
   "outputs": [
    {
     "data": {
      "application/javascript": [
       "parent.postMessage({\"jupyterEvent\": \"custom.exercise_interaction\", \"data\": {\"outcomeType\": 1, \"valueTowardsCompletion\": 0.2, \"interactionType\": 1, \"questionType\": 2, \"questionId\": \"6_OneTopping\", \"learnToolsVersion\": \"0.3.4\", \"failureMessage\": \"\", \"exceptionClass\": \"\", \"trace\": \"\"}}, \"*\")"
      ],
      "text/plain": [
       "<IPython.core.display.Javascript object>"
      ]
     },
     "metadata": {},
     "output_type": "display_data"
    },
    {
     "data": {
      "text/markdown": [
       "<span style=\"color:#33cc33\">Correct:</span> \n",
       "\n",
       "This condition would be pretty complicated to express using just `and`, `or` and `not`, but using boolean-to-integer conversion gives us this short solution:\n",
       "```python\n",
       "return (int(ketchup) + int(mustard) + int(onion)) == 1\n",
       "```\n",
       "\n",
       "Fun fact: we don't technically need to call `int` on the arguments. Just by doing addition with booleans, Python implicitly does the integer conversion. So we could also write...\n",
       "\n",
       "```python\n",
       "return (ketchup + mustard + onion) == 1\n",
       "```"
      ],
      "text/plain": [
       "Correct: \n",
       "\n",
       "This condition would be pretty complicated to express using just `and`, `or` and `not`, but using boolean-to-integer conversion gives us this short solution:\n",
       "```python\n",
       "return (int(ketchup) + int(mustard) + int(onion)) == 1\n",
       "```\n",
       "\n",
       "Fun fact: we don't technically need to call `int` on the arguments. Just by doing addition with booleans, Python implicitly does the integer conversion. So we could also write...\n",
       "\n",
       "```python\n",
       "return (ketchup + mustard + onion) == 1\n",
       "```"
      ]
     },
     "metadata": {},
     "output_type": "display_data"
    }
   ],
   "source": [
    "def exactly_one_topping(ketchup, mustard, onion):\n",
    "    \"\"\"Return whether the customer wants exactly one of the three available toppings\n",
    "    on their hot dog.\n",
    "    \"\"\"\n",
    "    return (ketchup + mustard + onion) == 1\n",
    "    \n",
    "\n",
    "# Check your answer\n",
    "q6.check()"
   ]
  },
  {
   "cell_type": "code",
   "execution_count": 20,
   "id": "south-wisconsin",
   "metadata": {
    "execution": {
     "iopub.execute_input": "2021-05-13T11:47:24.228342Z",
     "iopub.status.busy": "2021-05-13T11:47:24.227486Z",
     "iopub.status.idle": "2021-05-13T11:47:24.231006Z",
     "shell.execute_reply": "2021-05-13T11:47:24.230430Z"
    },
    "papermill": {
     "duration": 0.036657,
     "end_time": "2021-05-13T11:47:24.231137",
     "exception": false,
     "start_time": "2021-05-13T11:47:24.194480",
     "status": "completed"
    },
    "tags": []
   },
   "outputs": [],
   "source": [
    "#q6.hint()\n",
    "#q6.solution()"
   ]
  },
  {
   "cell_type": "markdown",
   "id": "prompt-mexican",
   "metadata": {
    "papermill": {
     "duration": 0.029021,
     "end_time": "2021-05-13T11:47:24.289545",
     "exception": false,
     "start_time": "2021-05-13T11:47:24.260524",
     "status": "completed"
    },
    "tags": []
   },
   "source": [
    "## 7. <span title=\"A bit spicy\" style=\"color: darkgreen \">🌶️</span> (Optional)\n",
    "\n",
    "In this problem we'll be working with a simplified version of [blackjack](https://en.wikipedia.org/wiki/Blackjack) (aka twenty-one). In this version there is one player (who you'll control) and a dealer. Play proceeds as follows:\n",
    "\n",
    "- The player is dealt two face-up cards. The dealer is dealt one face-up card.\n",
    "- The player may ask to be dealt another card ('hit') as many times as they wish. If the sum of their cards exceeds 21, they lose the round immediately.\n",
    "- The dealer then deals additional cards to himself until either:\n",
    "    - the sum of the dealer's cards exceeds 21, in which case the player wins the round\n",
    "    - the sum of the dealer's cards is greater than or equal to 17. If the player's total is greater than the dealer's, the player wins. Otherwise, the dealer wins (even in case of a tie).\n",
    "    \n",
    "When calculating the sum of cards, Jack, Queen, and King count for 10. Aces can count as 1 or 11 (when referring to a player's \"total\" above, we mean the largest total that can be made without exceeding 21. So e.g. A+8 = 19, A+8+8 = 17)\n",
    "\n",
    "For this problem, you'll write a function representing the player's decision-making strategy in this game. We've provided a very unintelligent implementation below:"
   ]
  },
  {
   "cell_type": "code",
   "execution_count": 21,
   "id": "progressive-headset",
   "metadata": {
    "execution": {
     "iopub.execute_input": "2021-05-13T11:47:24.352456Z",
     "iopub.status.busy": "2021-05-13T11:47:24.351697Z",
     "iopub.status.idle": "2021-05-13T11:47:24.355409Z",
     "shell.execute_reply": "2021-05-13T11:47:24.354781Z"
    },
    "papermill": {
     "duration": 0.036869,
     "end_time": "2021-05-13T11:47:24.355551",
     "exception": false,
     "start_time": "2021-05-13T11:47:24.318682",
     "status": "completed"
    },
    "tags": []
   },
   "outputs": [],
   "source": [
    "def should_hit(dealer_total, player_total, player_low_aces, player_high_aces):\n",
    "    \"\"\"Return True if the player should hit (request another card) given the current game\n",
    "    state, or False if the player should stay.\n",
    "    When calculating a hand's total value, we count aces as \"high\" (with value 11) if doing so\n",
    "    doesn't bring the total above 21, otherwise we count them as low (with value 1). \n",
    "    For example, if the player's hand is {A, A, A, 7}, we will count it as 11 + 1 + 1 + 7,\n",
    "    and therefore set player_total=20, player_low_aces=2, player_high_aces=1.\n",
    "    \"\"\"\n",
    "    return False"
   ]
  },
  {
   "cell_type": "markdown",
   "id": "accomplished-symbol",
   "metadata": {
    "papermill": {
     "duration": 0.02874,
     "end_time": "2021-05-13T11:47:24.413558",
     "exception": false,
     "start_time": "2021-05-13T11:47:24.384818",
     "status": "completed"
    },
    "tags": []
   },
   "source": [
    "This very conservative agent *always* sticks with the hand of two cards that they're dealt.\n",
    "\n",
    "We'll be simulating games between your player agent and our own dealer agent by calling your function.\n",
    "\n",
    "Try running the function below to see an example of a simulated game:"
   ]
  },
  {
   "cell_type": "code",
   "execution_count": 22,
   "id": "useful-miller",
   "metadata": {
    "execution": {
     "iopub.execute_input": "2021-05-13T11:47:24.475239Z",
     "iopub.status.busy": "2021-05-13T11:47:24.474361Z",
     "iopub.status.idle": "2021-05-13T11:47:24.481752Z",
     "shell.execute_reply": "2021-05-13T11:47:24.481178Z"
    },
    "papermill": {
     "duration": 0.039118,
     "end_time": "2021-05-13T11:47:24.481890",
     "exception": false,
     "start_time": "2021-05-13T11:47:24.442772",
     "status": "completed"
    },
    "tags": []
   },
   "outputs": [
    {
     "name": "stdout",
     "output_type": "stream",
     "text": [
      "Player starts with A and 9 (total = 20)\n",
      "Dealer starts with 9\n",
      "\n",
      "__Player's turn__\n",
      "Player stays\n",
      "\n",
      "__Dealer's turn__\n",
      "Dealer hits and receives 2. (total = 11)\n",
      "Dealer hits and receives 5. (total = 16)\n",
      "Dealer hits and receives 2. (total = 18)\n",
      "Dealer stands.\n",
      "Player wins. 20 > 18\n"
     ]
    }
   ],
   "source": [
    "q7.simulate_one_game()"
   ]
  },
  {
   "cell_type": "markdown",
   "id": "transparent-stadium",
   "metadata": {
    "papermill": {
     "duration": 0.029005,
     "end_time": "2021-05-13T11:47:24.542793",
     "exception": false,
     "start_time": "2021-05-13T11:47:24.513788",
     "status": "completed"
    },
    "tags": []
   },
   "source": [
    "The real test of your agent's mettle is their average win rate over many games. Try calling the function below to simulate 50000 games of blackjack (it may take a couple seconds):"
   ]
  },
  {
   "cell_type": "code",
   "execution_count": 23,
   "id": "difficult-paraguay",
   "metadata": {
    "execution": {
     "iopub.execute_input": "2021-05-13T11:47:24.604115Z",
     "iopub.status.busy": "2021-05-13T11:47:24.603464Z",
     "iopub.status.idle": "2021-05-13T11:47:25.817201Z",
     "shell.execute_reply": "2021-05-13T11:47:25.816696Z"
    },
    "papermill": {
     "duration": 1.2453,
     "end_time": "2021-05-13T11:47:25.817334",
     "exception": false,
     "start_time": "2021-05-13T11:47:24.572034",
     "status": "completed"
    },
    "tags": []
   },
   "outputs": [
    {
     "name": "stdout",
     "output_type": "stream",
     "text": [
      "Player won 18889 out of 50000 games (win rate = 37.8%)\n"
     ]
    }
   ],
   "source": [
    "q7.simulate(n_games=50000)"
   ]
  },
  {
   "cell_type": "markdown",
   "id": "emerging-louis",
   "metadata": {
    "papermill": {
     "duration": 0.02909,
     "end_time": "2021-05-13T11:47:25.875881",
     "exception": false,
     "start_time": "2021-05-13T11:47:25.846791",
     "status": "completed"
    },
    "tags": []
   },
   "source": [
    "Our dumb agent that completely ignores the game state still manages to win shockingly often!\n",
    "\n",
    "Try adding some more smarts to the `should_hit` function and see how it affects the results."
   ]
  },
  {
   "cell_type": "code",
   "execution_count": 24,
   "id": "patent-momentum",
   "metadata": {
    "execution": {
     "iopub.execute_input": "2021-05-13T11:47:25.948514Z",
     "iopub.status.busy": "2021-05-13T11:47:25.943367Z",
     "iopub.status.idle": "2021-05-13T11:47:27.167907Z",
     "shell.execute_reply": "2021-05-13T11:47:27.168582Z"
    },
    "papermill": {
     "duration": 1.263539,
     "end_time": "2021-05-13T11:47:27.168828",
     "exception": false,
     "start_time": "2021-05-13T11:47:25.905289",
     "status": "completed"
    },
    "tags": []
   },
   "outputs": [
    {
     "name": "stdout",
     "output_type": "stream",
     "text": [
      "Player won 19032 out of 50000 games (win rate = 38.1%)\n"
     ]
    }
   ],
   "source": [
    "def should_hit(dealer_total, player_total, player_low_aces, player_high_aces):\n",
    "    \"\"\"Return True if the player should hit (request another card) given the current game\n",
    "    state, or False if the player should stay.\n",
    "    When calculating a hand's total value, we count aces as \"high\" (with value 11) if doing so\n",
    "    doesn't bring the total above 21, otherwise we count them as low (with value 1). \n",
    "    For example, if the player's hand is {A, A, A, 7}, we will count it as 11 + 1 + 1 + 7,\n",
    "    and therefore set player_total=20, player_low_aces=2, player_high_aces=1.\n",
    "    \"\"\"\n",
    "    return False\n",
    "\n",
    "q7.simulate(n_games=50000)"
   ]
  },
  {
   "cell_type": "markdown",
   "id": "planned-battlefield",
   "metadata": {
    "papermill": {
     "duration": 0.029544,
     "end_time": "2021-05-13T11:47:27.229287",
     "exception": false,
     "start_time": "2021-05-13T11:47:27.199743",
     "status": "completed"
    },
    "tags": []
   },
   "source": [
    "# Keep Going\n",
    "\n",
    "Learn about **[lists and tuples](https://www.kaggle.com/colinmorris/lists)** to handle multiple items of data in a systematic way."
   ]
  },
  {
   "cell_type": "markdown",
   "id": "subject-empire",
   "metadata": {
    "papermill": {
     "duration": 0.032204,
     "end_time": "2021-05-13T11:47:27.291401",
     "exception": false,
     "start_time": "2021-05-13T11:47:27.259197",
     "status": "completed"
    },
    "tags": []
   },
   "source": [
    "---\n",
    "\n",
    "\n",
    "\n",
    "\n",
    "*Have questions or comments? Visit the [Learn Discussion forum](https://www.kaggle.com/learn-forum/161283) to chat with other Learners.*"
   ]
  }
 ],
 "metadata": {
  "kernelspec": {
   "display_name": "Python 3",
   "language": "python",
   "name": "python3"
  },
  "language_info": {
   "codemirror_mode": {
    "name": "ipython",
    "version": 3
   },
   "file_extension": ".py",
   "mimetype": "text/x-python",
   "name": "python",
   "nbconvert_exporter": "python",
   "pygments_lexer": "ipython3",
   "version": "3.7.9"
  },
  "papermill": {
   "default_parameters": {},
   "duration": 11.155946,
   "end_time": "2021-05-13T11:47:27.939990",
   "environment_variables": {},
   "exception": null,
   "input_path": "__notebook__.ipynb",
   "output_path": "__notebook__.ipynb",
   "parameters": {},
   "start_time": "2021-05-13T11:47:16.784044",
   "version": "2.3.2"
  }
 },
 "nbformat": 4,
 "nbformat_minor": 5
}
