{
 "cells": [
  {
   "cell_type": "markdown",
   "id": "fewer-peter",
   "metadata": {
    "papermill": {
     "duration": 0.012741,
     "end_time": "2021-05-15T12:17:45.131757",
     "exception": false,
     "start_time": "2021-05-15T12:17:45.119016",
     "status": "completed"
    },
    "tags": []
   },
   "source": [
    "**This notebook is an exercise in the [Python](https://www.kaggle.com/learn/python) course.  You can reference the tutorial at [this link](https://www.kaggle.com/colinmorris/loops-and-list-comprehensions).**\n",
    "\n",
    "---\n"
   ]
  },
  {
   "cell_type": "markdown",
   "id": "criminal-camera",
   "metadata": {
    "papermill": {
     "duration": 0.010226,
     "end_time": "2021-05-15T12:17:45.153323",
     "exception": false,
     "start_time": "2021-05-15T12:17:45.143097",
     "status": "completed"
    },
    "tags": []
   },
   "source": [
    "# Try It Yourself\n",
    "\n",
    "With all you've learned, you can start writing much more interesting programs. See if you can solve the problems below.\n",
    "\n",
    "As always, run the setup code below before working on the questions."
   ]
  },
  {
   "cell_type": "code",
   "execution_count": 1,
   "id": "peripheral-preserve",
   "metadata": {
    "execution": {
     "iopub.execute_input": "2021-05-15T12:17:45.178744Z",
     "iopub.status.busy": "2021-05-15T12:17:45.177768Z",
     "iopub.status.idle": "2021-05-15T12:17:45.218243Z",
     "shell.execute_reply": "2021-05-15T12:17:45.218735Z"
    },
    "papermill": {
     "duration": 0.05478,
     "end_time": "2021-05-15T12:17:45.219010",
     "exception": false,
     "start_time": "2021-05-15T12:17:45.164230",
     "status": "completed"
    },
    "tags": []
   },
   "outputs": [
    {
     "name": "stdout",
     "output_type": "stream",
     "text": [
      "Setup complete.\n"
     ]
    }
   ],
   "source": [
    "from learntools.core import binder; binder.bind(globals())\n",
    "from learntools.python.ex5 import *\n",
    "print('Setup complete.')"
   ]
  },
  {
   "cell_type": "markdown",
   "id": "abstract-attribute",
   "metadata": {
    "papermill": {
     "duration": 0.010933,
     "end_time": "2021-05-15T12:17:45.241851",
     "exception": false,
     "start_time": "2021-05-15T12:17:45.230918",
     "status": "completed"
    },
    "tags": []
   },
   "source": [
    "# Exercises"
   ]
  },
  {
   "cell_type": "markdown",
   "id": "aggressive-convert",
   "metadata": {
    "papermill": {
     "duration": 0.01074,
     "end_time": "2021-05-15T12:17:45.263864",
     "exception": false,
     "start_time": "2021-05-15T12:17:45.253124",
     "status": "completed"
    },
    "tags": []
   },
   "source": [
    "## 1.\n",
    "\n",
    "Have you ever felt debugging involved a bit of luck? The following program has a bug. Try to identify the bug and fix it."
   ]
  },
  {
   "cell_type": "code",
   "execution_count": 2,
   "id": "asian-twins",
   "metadata": {
    "execution": {
     "iopub.execute_input": "2021-05-15T12:17:45.292632Z",
     "iopub.status.busy": "2021-05-15T12:17:45.292046Z",
     "iopub.status.idle": "2021-05-15T12:17:45.294354Z",
     "shell.execute_reply": "2021-05-15T12:17:45.294787Z"
    },
    "papermill": {
     "duration": 0.019907,
     "end_time": "2021-05-15T12:17:45.294979",
     "exception": false,
     "start_time": "2021-05-15T12:17:45.275072",
     "status": "completed"
    },
    "tags": []
   },
   "outputs": [],
   "source": [
    "def has_lucky_number(nums):\n",
    "    \"\"\"Return whether the given list of numbers is lucky. A lucky list contains\n",
    "    at least one number divisible by 7.\n",
    "    \"\"\"\n",
    "    for num in nums:\n",
    "        if num % 7 == 0:\n",
    "            return True\n",
    "        else:\n",
    "            return False"
   ]
  },
  {
   "cell_type": "markdown",
   "id": "spatial-floor",
   "metadata": {
    "papermill": {
     "duration": 0.010714,
     "end_time": "2021-05-15T12:17:45.316979",
     "exception": false,
     "start_time": "2021-05-15T12:17:45.306265",
     "status": "completed"
    },
    "tags": []
   },
   "source": [
    "Try to identify the bug and fix it in the cell below:"
   ]
  },
  {
   "cell_type": "code",
   "execution_count": 3,
   "id": "accessory-meter",
   "metadata": {
    "execution": {
     "iopub.execute_input": "2021-05-15T12:17:45.342524Z",
     "iopub.status.busy": "2021-05-15T12:17:45.341642Z",
     "iopub.status.idle": "2021-05-15T12:17:45.350860Z",
     "shell.execute_reply": "2021-05-15T12:17:45.351356Z"
    },
    "papermill": {
     "duration": 0.023504,
     "end_time": "2021-05-15T12:17:45.351519",
     "exception": false,
     "start_time": "2021-05-15T12:17:45.328015",
     "status": "completed"
    },
    "tags": []
   },
   "outputs": [
    {
     "data": {
      "application/javascript": [
       "parent.postMessage({\"jupyterEvent\": \"custom.exercise_interaction\", \"data\": {\"outcomeType\": 1, \"valueTowardsCompletion\": 0.25, \"interactionType\": 1, \"questionType\": 2, \"questionId\": \"1_EarlyExitDebugging\", \"learnToolsVersion\": \"0.3.4\", \"failureMessage\": \"\", \"exceptionClass\": \"\", \"trace\": \"\"}}, \"*\")"
      ],
      "text/plain": [
       "<IPython.core.display.Javascript object>"
      ]
     },
     "metadata": {},
     "output_type": "display_data"
    },
    {
     "data": {
      "text/markdown": [
       "<span style=\"color:#33cc33\">Correct:</span> \n",
       "\n",
       "Remember that `return` causes a function to exit immediately. So our original implementation always ran for just one iteration. We can only return `False` if we've looked at every element of the list (and confirmed that none of them are lucky). Though we can return early if the answer is `True`:\n",
       "\n",
       "```python\n",
       "def has_lucky_number(nums):\n",
       "    for num in nums:\n",
       "        if num % 7 == 0:\n",
       "            return True\n",
       "    # We've exhausted the list without finding a lucky number\n",
       "    return False\n",
       "```\n",
       "\n",
       "Here's a one-line version using a list comprehension with Python's `any` function (you can read about what it does by calling `help(any)`):\n",
       "\n",
       "```python\n",
       "def has_lucky_number(nums):\n",
       "    return any([num % 7 == 0 for num in nums])\n",
       "```\n"
      ],
      "text/plain": [
       "Correct: \n",
       "\n",
       "Remember that `return` causes a function to exit immediately. So our original implementation always ran for just one iteration. We can only return `False` if we've looked at every element of the list (and confirmed that none of them are lucky). Though we can return early if the answer is `True`:\n",
       "\n",
       "```python\n",
       "def has_lucky_number(nums):\n",
       "    for num in nums:\n",
       "        if num % 7 == 0:\n",
       "            return True\n",
       "    # We've exhausted the list without finding a lucky number\n",
       "    return False\n",
       "```\n",
       "\n",
       "Here's a one-line version using a list comprehension with Python's `any` function (you can read about what it does by calling `help(any)`):\n",
       "\n",
       "```python\n",
       "def has_lucky_number(nums):\n",
       "    return any([num % 7 == 0 for num in nums])\n",
       "```"
      ]
     },
     "metadata": {},
     "output_type": "display_data"
    }
   ],
   "source": [
    "def has_lucky_number(nums):\n",
    "    \"\"\"Return whether the given list of numbers is lucky. A lucky list contains\n",
    "    at least one number divisible by 7.\n",
    "    \"\"\"\n",
    "    for num in nums:\n",
    "        if num % 7 == 0:\n",
    "            return True\n",
    "        \n",
    "    return False\n",
    "\n",
    "# Check your answer\n",
    "q1.check()"
   ]
  },
  {
   "cell_type": "code",
   "execution_count": 4,
   "id": "pursuant-lesson",
   "metadata": {
    "execution": {
     "iopub.execute_input": "2021-05-15T12:17:45.379874Z",
     "iopub.status.busy": "2021-05-15T12:17:45.379263Z",
     "iopub.status.idle": "2021-05-15T12:17:45.381946Z",
     "shell.execute_reply": "2021-05-15T12:17:45.381500Z"
    },
    "papermill": {
     "duration": 0.018374,
     "end_time": "2021-05-15T12:17:45.382089",
     "exception": false,
     "start_time": "2021-05-15T12:17:45.363715",
     "status": "completed"
    },
    "tags": []
   },
   "outputs": [],
   "source": [
    "#q1.hint()\n",
    "#q1.solution()"
   ]
  },
  {
   "cell_type": "markdown",
   "id": "referenced-wagner",
   "metadata": {
    "papermill": {
     "duration": 0.011614,
     "end_time": "2021-05-15T12:17:45.405665",
     "exception": false,
     "start_time": "2021-05-15T12:17:45.394051",
     "status": "completed"
    },
    "tags": []
   },
   "source": [
    "## 2.\n",
    "\n",
    "### a.\n",
    "Look at the Python expression below. What do you think we'll get when we run it? When you've made your prediction, uncomment the code and run the cell to see if you were right."
   ]
  },
  {
   "cell_type": "code",
   "execution_count": 5,
   "id": "frozen-armenia",
   "metadata": {
    "execution": {
     "iopub.execute_input": "2021-05-15T12:17:45.434317Z",
     "iopub.status.busy": "2021-05-15T12:17:45.433479Z",
     "iopub.status.idle": "2021-05-15T12:17:45.475183Z",
     "shell.execute_reply": "2021-05-15T12:17:45.474693Z"
    },
    "papermill": {
     "duration": 0.057687,
     "end_time": "2021-05-15T12:17:45.475386",
     "exception": false,
     "start_time": "2021-05-15T12:17:45.417699",
     "status": "completed"
    },
    "tags": []
   },
   "outputs": [
    {
     "ename": "TypeError",
     "evalue": "'>' not supported between instances of 'list' and 'int'",
     "output_type": "error",
     "traceback": [
      "\u001b[0;31m---------------------------------------------------------------------------\u001b[0m",
      "\u001b[0;31mTypeError\u001b[0m                                 Traceback (most recent call last)",
      "\u001b[0;32m<ipython-input-5-6f064fcfe2b9>\u001b[0m in \u001b[0;36m<module>\u001b[0;34m\u001b[0m\n\u001b[0;32m----> 1\u001b[0;31m \u001b[0;34m[\u001b[0m\u001b[0;36m1\u001b[0m\u001b[0;34m,\u001b[0m \u001b[0;36m2\u001b[0m\u001b[0;34m,\u001b[0m \u001b[0;36m3\u001b[0m\u001b[0;34m,\u001b[0m \u001b[0;36m4\u001b[0m\u001b[0;34m]\u001b[0m \u001b[0;34m>\u001b[0m \u001b[0;36m2\u001b[0m\u001b[0;34m\u001b[0m\u001b[0;34m\u001b[0m\u001b[0m\n\u001b[0m",
      "\u001b[0;31mTypeError\u001b[0m: '>' not supported between instances of 'list' and 'int'"
     ]
    }
   ],
   "source": [
    "[1, 2, 3, 4] > 2"
   ]
  },
  {
   "cell_type": "markdown",
   "id": "gentle-foundation",
   "metadata": {
    "papermill": {
     "duration": 0.012059,
     "end_time": "2021-05-15T12:17:45.500227",
     "exception": false,
     "start_time": "2021-05-15T12:17:45.488168",
     "status": "completed"
    },
    "tags": []
   },
   "source": [
    "### b\n",
    "R and Python have some libraries (like numpy and pandas) compare each element of the list to 2 (i.e. do an 'element-wise' comparison) and give us a list of booleans like `[False, False, True, True]`. \n",
    "\n",
    "Implement a function that reproduces this behaviour, returning a list of booleans corresponding to whether the corresponding element is greater than n.\n"
   ]
  },
  {
   "cell_type": "code",
   "execution_count": 6,
   "id": "ready-stretch",
   "metadata": {
    "execution": {
     "iopub.execute_input": "2021-05-15T12:17:45.533094Z",
     "iopub.status.busy": "2021-05-15T12:17:45.532147Z",
     "iopub.status.idle": "2021-05-15T12:17:45.537555Z",
     "shell.execute_reply": "2021-05-15T12:17:45.537983Z"
    },
    "papermill": {
     "duration": 0.024484,
     "end_time": "2021-05-15T12:17:45.538168",
     "exception": false,
     "start_time": "2021-05-15T12:17:45.513684",
     "status": "completed"
    },
    "tags": []
   },
   "outputs": [
    {
     "data": {
      "application/javascript": [
       "parent.postMessage({\"jupyterEvent\": \"custom.exercise_interaction\", \"data\": {\"outcomeType\": 1, \"valueTowardsCompletion\": 0.25, \"interactionType\": 1, \"questionType\": 2, \"questionId\": \"2_ElementWiseComparison\", \"learnToolsVersion\": \"0.3.4\", \"failureMessage\": \"\", \"exceptionClass\": \"\", \"trace\": \"\"}}, \"*\")"
      ],
      "text/plain": [
       "<IPython.core.display.Javascript object>"
      ]
     },
     "metadata": {},
     "output_type": "display_data"
    },
    {
     "data": {
      "text/markdown": [
       "<span style=\"color:#33cc33\">Correct:</span> \n",
       "\n",
       "Here's one solution:\n",
       "```python\n",
       "def elementwise_greater_than(L, thresh):\n",
       "    res = []\n",
       "    for ele in L:\n",
       "        res.append(ele > thresh)\n",
       "    return res\n",
       "```\n",
       "\n",
       "And here's the list comprehension version:\n",
       "```python\n",
       "def elementwise_greater_than(L, thresh):\n",
       "    return [ele > thresh for ele in L]\n",
       "```\n"
      ],
      "text/plain": [
       "Correct: \n",
       "\n",
       "Here's one solution:\n",
       "```python\n",
       "def elementwise_greater_than(L, thresh):\n",
       "    res = []\n",
       "    for ele in L:\n",
       "        res.append(ele > thresh)\n",
       "    return res\n",
       "```\n",
       "\n",
       "And here's the list comprehension version:\n",
       "```python\n",
       "def elementwise_greater_than(L, thresh):\n",
       "    return [ele > thresh for ele in L]\n",
       "```"
      ]
     },
     "metadata": {},
     "output_type": "display_data"
    }
   ],
   "source": [
    "def elementwise_greater_than(L, thresh):\n",
    "    \"\"\"Return a list with the same length as L, where the value at index i is \n",
    "    True if L[i] is greater than thresh, and False otherwise.\n",
    "    \n",
    "    >>> elementwise_greater_than([1, 2, 3, 4], 2)\n",
    "    [False, False, True, True]\n",
    "    \"\"\"\n",
    "    res = []\n",
    "    for ele in L:\n",
    "        res.append(ele > thresh)\n",
    "    return res\n",
    "    \n",
    "\n",
    "# Check your answer\n",
    "q2.check()"
   ]
  },
  {
   "cell_type": "code",
   "execution_count": 7,
   "id": "regional-eugene",
   "metadata": {
    "execution": {
     "iopub.execute_input": "2021-05-15T12:17:45.569463Z",
     "iopub.status.busy": "2021-05-15T12:17:45.568576Z",
     "iopub.status.idle": "2021-05-15T12:17:45.571755Z",
     "shell.execute_reply": "2021-05-15T12:17:45.572180Z"
    },
    "papermill": {
     "duration": 0.019997,
     "end_time": "2021-05-15T12:17:45.572347",
     "exception": false,
     "start_time": "2021-05-15T12:17:45.552350",
     "status": "completed"
    },
    "tags": []
   },
   "outputs": [],
   "source": [
    "#q2.solution()"
   ]
  },
  {
   "cell_type": "markdown",
   "id": "velvet-orleans",
   "metadata": {
    "papermill": {
     "duration": 0.014018,
     "end_time": "2021-05-15T12:17:45.599913",
     "exception": false,
     "start_time": "2021-05-15T12:17:45.585895",
     "status": "completed"
    },
    "tags": []
   },
   "source": [
    "## 3.\n",
    "\n",
    "Complete the body of the function below according to its docstring."
   ]
  },
  {
   "cell_type": "code",
   "execution_count": 8,
   "id": "guilty-technician",
   "metadata": {
    "execution": {
     "iopub.execute_input": "2021-05-15T12:17:45.629922Z",
     "iopub.status.busy": "2021-05-15T12:17:45.629014Z",
     "iopub.status.idle": "2021-05-15T12:17:45.637225Z",
     "shell.execute_reply": "2021-05-15T12:17:45.636651Z"
    },
    "papermill": {
     "duration": 0.024202,
     "end_time": "2021-05-15T12:17:45.637361",
     "exception": false,
     "start_time": "2021-05-15T12:17:45.613159",
     "status": "completed"
    },
    "tags": []
   },
   "outputs": [
    {
     "data": {
      "application/javascript": [
       "parent.postMessage({\"jupyterEvent\": \"custom.exercise_interaction\", \"data\": {\"outcomeType\": 1, \"valueTowardsCompletion\": 0.25, \"interactionType\": 1, \"questionType\": 2, \"questionId\": \"3_BoringMenu\", \"learnToolsVersion\": \"0.3.4\", \"failureMessage\": \"\", \"exceptionClass\": \"\", \"trace\": \"\"}}, \"*\")"
      ],
      "text/plain": [
       "<IPython.core.display.Javascript object>"
      ]
     },
     "metadata": {},
     "output_type": "display_data"
    },
    {
     "data": {
      "text/markdown": [
       "<span style=\"color:#33cc33\">Correct:</span> \n",
       "\n",
       "\n",
       "\n",
       "```python\n",
       "def menu_is_boring(meals):\n",
       "    # Iterate over all indices of the list, except the last one\n",
       "    for i in range(len(meals)-1):\n",
       "        if meals[i] == meals[i+1]:\n",
       "            return True\n",
       "    return False\n",
       "```\n",
       "\n",
       "The key to our solution is the call to `range`. `range(len(meals))` would give us all the indices of `meals`. If we had used that range, the last iteration of the loop would be comparing the last element to the element after it, which is... `IndexError`! `range(len(meals)-1)` gives us all the indices except the index of the last element.\n",
       "\n",
       "But don't we need to check if `meals` is empty? Turns out that `range(0) == range(-1)` - they're both empty. So if `meals` has length 0 or 1, we just won't do any iterations of our for loop.\n"
      ],
      "text/plain": [
       "Correct: \n",
       "\n",
       "\n",
       "\n",
       "```python\n",
       "def menu_is_boring(meals):\n",
       "    # Iterate over all indices of the list, except the last one\n",
       "    for i in range(len(meals)-1):\n",
       "        if meals[i] == meals[i+1]:\n",
       "            return True\n",
       "    return False\n",
       "```\n",
       "\n",
       "The key to our solution is the call to `range`. `range(len(meals))` would give us all the indices of `meals`. If we had used that range, the last iteration of the loop would be comparing the last element to the element after it, which is... `IndexError`! `range(len(meals)-1)` gives us all the indices except the index of the last element.\n",
       "\n",
       "But don't we need to check if `meals` is empty? Turns out that `range(0) == range(-1)` - they're both empty. So if `meals` has length 0 or 1, we just won't do any iterations of our for loop."
      ]
     },
     "metadata": {},
     "output_type": "display_data"
    }
   ],
   "source": [
    "def menu_is_boring(meals):\n",
    "    \"\"\"Given a list of meals served over some period of time, return True if the\n",
    "    same meal has ever been served two days in a row, and False otherwise.\n",
    "    \"\"\"\n",
    "    for i in range(len(meals)-1):\n",
    "        if meals[i] == meals[i+1]:\n",
    "            return True\n",
    "    return False\n",
    "\n",
    "# Check your answer\n",
    "q3.check()"
   ]
  },
  {
   "cell_type": "code",
   "execution_count": 9,
   "id": "billion-ranking",
   "metadata": {
    "execution": {
     "iopub.execute_input": "2021-05-15T12:17:45.669770Z",
     "iopub.status.busy": "2021-05-15T12:17:45.669255Z",
     "iopub.status.idle": "2021-05-15T12:17:45.671086Z",
     "shell.execute_reply": "2021-05-15T12:17:45.671491Z"
    },
    "papermill": {
     "duration": 0.019812,
     "end_time": "2021-05-15T12:17:45.671638",
     "exception": false,
     "start_time": "2021-05-15T12:17:45.651826",
     "status": "completed"
    },
    "tags": []
   },
   "outputs": [],
   "source": [
    "#q3.hint()\n",
    "#q3.solution()"
   ]
  },
  {
   "cell_type": "markdown",
   "id": "loose-xerox",
   "metadata": {
    "papermill": {
     "duration": 0.01419,
     "end_time": "2021-05-15T12:17:45.700319",
     "exception": false,
     "start_time": "2021-05-15T12:17:45.686129",
     "status": "completed"
    },
    "tags": []
   },
   "source": [
    "## 4. <span title=\"A bit spicy\" style=\"color: darkgreen \">🌶️</span>\n",
    "\n",
    "Next to the Blackjack table, the Python Challenge Casino has a slot machine. You can get a result from the slot machine by calling `play_slot_machine()`. The number it returns is your winnings in dollars. Usually it returns 0.  But sometimes you'll get lucky and get a big payday. Try running it below:"
   ]
  },
  {
   "cell_type": "code",
   "execution_count": 10,
   "id": "broadband-tobago",
   "metadata": {
    "execution": {
     "iopub.execute_input": "2021-05-15T12:17:45.731840Z",
     "iopub.status.busy": "2021-05-15T12:17:45.731320Z",
     "iopub.status.idle": "2021-05-15T12:17:45.736645Z",
     "shell.execute_reply": "2021-05-15T12:17:45.736124Z"
    },
    "papermill": {
     "duration": 0.022143,
     "end_time": "2021-05-15T12:17:45.736767",
     "exception": false,
     "start_time": "2021-05-15T12:17:45.714624",
     "status": "completed"
    },
    "tags": []
   },
   "outputs": [
    {
     "data": {
      "text/plain": [
       "0"
      ]
     },
     "execution_count": 10,
     "metadata": {},
     "output_type": "execute_result"
    }
   ],
   "source": [
    "play_slot_machine()"
   ]
  },
  {
   "cell_type": "markdown",
   "id": "dominant-stamp",
   "metadata": {
    "papermill": {
     "duration": 0.01427,
     "end_time": "2021-05-15T12:17:45.765807",
     "exception": false,
     "start_time": "2021-05-15T12:17:45.751537",
     "status": "completed"
    },
    "tags": []
   },
   "source": [
    "By the way, did we mention that each play costs $1? Don't worry, we'll send you the bill later.\n",
    "\n",
    "On average, how much money can you expect to gain (or lose) every time you play the machine?  The casino keeps it a secret, but you can estimate the average value of each pull using a technique called the **Monte Carlo method**. To estimate the average outcome, we simulate the scenario many times, and return the average result.\n",
    "\n",
    "Complete the following function to calculate the average value per play of the slot machine."
   ]
  },
  {
   "cell_type": "code",
   "execution_count": 11,
   "id": "cathedral-collective",
   "metadata": {
    "execution": {
     "iopub.execute_input": "2021-05-15T12:17:45.799951Z",
     "iopub.status.busy": "2021-05-15T12:17:45.799283Z",
     "iopub.status.idle": "2021-05-15T12:17:45.801837Z",
     "shell.execute_reply": "2021-05-15T12:17:45.801380Z"
    },
    "papermill": {
     "duration": 0.021476,
     "end_time": "2021-05-15T12:17:45.801964",
     "exception": false,
     "start_time": "2021-05-15T12:17:45.780488",
     "status": "completed"
    },
    "tags": []
   },
   "outputs": [],
   "source": [
    "def estimate_average_slot_payout(n_runs):\n",
    "    \"\"\"Run the slot machine n_runs times and return the average net profit per run.\n",
    "    Example calls (note that return value is nondeterministic!):\n",
    "    >>> estimate_average_slot_payout(1)\n",
    "    -1\n",
    "    >>> estimate_average_slot_payout(1)\n",
    "    0.5\n",
    "    \"\"\"\n",
    "    pass"
   ]
  },
  {
   "cell_type": "markdown",
   "id": "economic-award",
   "metadata": {
    "papermill": {
     "duration": 0.014374,
     "end_time": "2021-05-15T12:17:45.831091",
     "exception": false,
     "start_time": "2021-05-15T12:17:45.816717",
     "status": "completed"
    },
    "tags": []
   },
   "source": [
    "When you think you know the expected value per spin, run the code cell below to view the solution and get credit for answering the question."
   ]
  },
  {
   "cell_type": "code",
   "execution_count": 12,
   "id": "tested-cream",
   "metadata": {
    "execution": {
     "iopub.execute_input": "2021-05-15T12:17:45.865248Z",
     "iopub.status.busy": "2021-05-15T12:17:45.864468Z",
     "iopub.status.idle": "2021-05-15T12:17:45.870427Z",
     "shell.execute_reply": "2021-05-15T12:17:45.870878Z"
    },
    "papermill": {
     "duration": 0.025389,
     "end_time": "2021-05-15T12:17:45.871056",
     "exception": false,
     "start_time": "2021-05-15T12:17:45.845667",
     "status": "completed"
    },
    "tags": []
   },
   "outputs": [
    {
     "data": {
      "application/javascript": [
       "parent.postMessage({\"jupyterEvent\": \"custom.exercise_interaction\", \"data\": {\"interactionType\": 3, \"questionType\": 4, \"questionId\": \"4_ExpectedSlotsPayout\", \"learnToolsVersion\": \"0.3.4\", \"valueTowardsCompletion\": 0.0, \"failureMessage\": \"\", \"exceptionClass\": \"\", \"trace\": \"\", \"outcomeType\": 4}}, \"*\")"
      ],
      "text/plain": [
       "<IPython.core.display.Javascript object>"
      ]
     },
     "metadata": {},
     "output_type": "display_data"
    },
    {
     "data": {
      "text/markdown": [
       "<span style=\"color:#33cc99\">Solution:</span> The exact expected value of one pull of the slot machine is 0.025 - i.e. a little more than 2 cents. See? Not every game in the Python Challenge Casino is rigged against the player!\n",
       "\n",
       "Because of the high variance of the outcome (there are some very rare high payout results that significantly affect the average) you might need to run your function with a very high value of `n_runs` to get a stable answer close to the true expectation.\n",
       "\n",
       "If your answer is way higher than 0.025, then maybe you forgot to account for the $1 cost per play?"
      ],
      "text/plain": [
       "Solution: The exact expected value of one pull of the slot machine is 0.025 - i.e. a little more than 2 cents. See? Not every game in the Python Challenge Casino is rigged against the player!\n",
       "\n",
       "Because of the high variance of the outcome (there are some very rare high payout results that significantly affect the average) you might need to run your function with a very high value of `n_runs` to get a stable answer close to the true expectation.\n",
       "\n",
       "If your answer is way higher than 0.025, then maybe you forgot to account for the $1 cost per play?"
      ]
     },
     "metadata": {},
     "output_type": "display_data"
    }
   ],
   "source": [
    "# Check your answer (Run this code cell to receive credit!)\n",
    "q4.solution()"
   ]
  },
  {
   "cell_type": "markdown",
   "id": "defensive-seeker",
   "metadata": {
    "papermill": {
     "duration": 0.015527,
     "end_time": "2021-05-15T12:17:45.902249",
     "exception": false,
     "start_time": "2021-05-15T12:17:45.886722",
     "status": "completed"
    },
    "tags": []
   },
   "source": [
    "# Keep Going\n",
    "\n",
    "Many programmers report that dictionaries are their favorite data structure. You'll get to **[learn about them](https://www.kaggle.com/colinmorris/strings-and-dictionaries)** (as well as strings) in the next lesson."
   ]
  },
  {
   "cell_type": "markdown",
   "id": "capable-florida",
   "metadata": {
    "papermill": {
     "duration": 0.015377,
     "end_time": "2021-05-15T12:17:45.933610",
     "exception": false,
     "start_time": "2021-05-15T12:17:45.918233",
     "status": "completed"
    },
    "tags": []
   },
   "source": [
    "---\n",
    "\n",
    "\n",
    "\n",
    "\n",
    "*Have questions or comments? Visit the [Learn Discussion forum](https://www.kaggle.com/learn-forum/161283) to chat with other Learners.*"
   ]
  }
 ],
 "metadata": {
  "kernelspec": {
   "display_name": "Python 3",
   "language": "python",
   "name": "python3"
  },
  "language_info": {
   "codemirror_mode": {
    "name": "ipython",
    "version": 3
   },
   "file_extension": ".py",
   "mimetype": "text/x-python",
   "name": "python",
   "nbconvert_exporter": "python",
   "pygments_lexer": "ipython3",
   "version": "3.7.9"
  },
  "papermill": {
   "default_parameters": {},
   "duration": 7.002139,
   "end_time": "2021-05-15T12:17:46.558892",
   "environment_variables": {},
   "exception": null,
   "input_path": "__notebook__.ipynb",
   "output_path": "__notebook__.ipynb",
   "parameters": {},
   "start_time": "2021-05-15T12:17:39.556753",
   "version": "2.3.2"
  }
 },
 "nbformat": 4,
 "nbformat_minor": 5
}
